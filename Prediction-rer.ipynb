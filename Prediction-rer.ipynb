{
 "cells": [
  {
   "cell_type": "code",
   "execution_count": 101,
   "id": "fe66437f-e39f-4617-bc3d-f91d49b204e2",
   "metadata": {},
   "outputs": [],
   "source": [
    "#pip install mca"
   ]
  },
  {
   "cell_type": "code",
   "execution_count": 340,
   "id": "389988fd-7d4d-46f6-a4bd-5cfe39210089",
   "metadata": {},
   "outputs": [],
   "source": [
    "import mca\n",
    "import numpy as np\n",
    "import pandas as pd\n",
    "import seaborn as sns\n",
    "import matplotlib.pyplot as plt\n",
    "from sklearn.decomposition import PCA\n",
    "from sklearn.preprocessing import StandardScaler\n",
    "from sklearn.ensemble import RandomForestClassifier\n",
    "from sklearn.metrics import accuracy_score, confusion_matrix\n",
    "from sklearn.model_selection import train_test_split, ShuffleSplit, KFold, cross_val_score, GridSearchCV, StratifiedKFold"
   ]
  },
  {
   "cell_type": "code",
   "execution_count": 492,
   "id": "b82074a5-aa74-497f-9fcb-a251cb9335d1",
   "metadata": {},
   "outputs": [],
   "source": [
    "rer = pd.read_csv(\"./Stations/MP.csv\", low_memory=False)"
   ]
  },
  {
   "cell_type": "markdown",
   "id": "375c2acb",
   "metadata": {},
   "source": [
    "# Cleaning again"
   ]
  },
  {
   "cell_type": "code",
   "execution_count": 494,
   "id": "92a35495",
   "metadata": {},
   "outputs": [],
   "source": [
    "rer['scheduled_arrival'] = pd.to_datetime(rer['scheduled_arrival'], format='%Y-%m-%d %H:%M:%S')\n",
    "\n",
    "rer = rer.sort_values(by='destination_name', ascending=False)\n",
    "rer['destination_name'] = pd.factorize(rer[\"destination_name\"])[0]\n",
    "\n",
    "rer = rer.sort_values(by='nearest_datetime', ascending=True)\n",
    "\n",
    "rer[\"departure_status\"] = rer[\"departure_status\"].astype(\"string\")\n",
    "rer[\"is_day\"] = rer[\"is_day\"].astype(int)"
   ]
  },
  {
   "cell_type": "code",
   "execution_count": 496,
   "id": "03137ccc",
   "metadata": {},
   "outputs": [],
   "source": [
    "rer['pourc_validations'] = rer['pourc_validations'].fillna(0)"
   ]
  },
  {
   "cell_type": "code",
   "execution_count": 498,
   "id": "5c38a9f6-aac4-40ca-b595-fdc7091e1813",
   "metadata": {},
   "outputs": [],
   "source": [
    "rer.loc[rer['scheduled_arrival'].dt.month == 12, 'E10'] = 1.76\n",
    "rer.loc[rer['scheduled_arrival'].dt.month == 12, '95'] = 1.79\n",
    "rer.loc[rer['scheduled_arrival'].dt.month == 12, '98'] = 1.87\n",
    "rer.loc[rer['scheduled_arrival'].dt.month == 12, 'gazole'] = 1.7\n",
    "\n",
    "rer.loc[rer['scheduled_arrival'].dt.month == 1, 'E10'] = 1.76\n",
    "rer.loc[rer['scheduled_arrival'].dt.month == 1, '95'] = 1.79\n",
    "rer.loc[rer['scheduled_arrival'].dt.month == 1, '98'] = 1.87\n",
    "rer.loc[rer['scheduled_arrival'].dt.month == 1, 'gazole'] = 1.7\n",
    "\n",
    "rer['scheduled_arrival'] = rer['scheduled_arrival'].fillna(rer['scheduled_departure'])"
   ]
  },
  {
   "cell_type": "code",
   "execution_count": 500,
   "id": "741af1ff",
   "metadata": {},
   "outputs": [],
   "source": [
    "rer = rer.drop(['stop_name', \"timestamp\", \"real_departure\", \"nearest_datetime\", \"scheduled_departure\", \"Période\", \"real_arrival\", \"arrival_difference\", \"departure_difference\", \"ArRTown\", \"Date\", \"day_type\", \"is_bank_holiday\", \"is_weekend\"], axis=1)"
   ]
  },
  {
   "cell_type": "code",
   "execution_count": 502,
   "id": "6fb05af5-5c1d-4919-b6d1-cb4f31c07259",
   "metadata": {},
   "outputs": [],
   "source": [
    "rer_learn = rer\n",
    "rer_test = rer\n",
    "\n",
    "start_date = pd.to_datetime('2024-11-02 00:00:00')\n",
    "end_date = pd.to_datetime('2025-01-12 23:59:59')\n",
    "\n",
    "start_date2 = pd.to_datetime('2025-01-13 00:00:00')\n",
    "end_date2 = pd.to_datetime('2025-01-19 23:59:59')\n",
    "\n",
    "rer_learn = rer_learn[(rer_learn['scheduled_arrival'] >= start_date) & (rer_learn['scheduled_arrival'] <= end_date)]\n",
    "rer_test = rer_test[(rer_test['scheduled_arrival'] >= start_date2) & (rer_test['scheduled_arrival'] <= end_date2)]\n"
   ]
  },
  {
   "cell_type": "markdown",
   "id": "1f7d9cae-5612-4246-8692-498c0fbfde27",
   "metadata": {
    "jp-MarkdownHeadingCollapsed": true
   },
   "source": [
    "# PCA"
   ]
  },
  {
   "cell_type": "code",
   "execution_count": 505,
   "id": "62c0abd0-83a2-4631-9efa-9f2d7197d996",
   "metadata": {},
   "outputs": [
    {
     "ename": "NameError",
     "evalue": "name 'metro_learn' is not defined",
     "output_type": "error",
     "traceback": [
      "\u001b[0;31m---------------------------------------------------------------------------\u001b[0m",
      "\u001b[0;31mNameError\u001b[0m                                 Traceback (most recent call last)",
      "Cell \u001b[0;32mIn[505], line 2\u001b[0m\n\u001b[1;32m      1\u001b[0m \u001b[38;5;66;03m# Select numerical variables\u001b[39;00m\n\u001b[0;32m----> 2\u001b[0m numerical_vars \u001b[38;5;241m=\u001b[39m metro_learn\u001b[38;5;241m.\u001b[39mselect_dtypes(include\u001b[38;5;241m=\u001b[39m[\u001b[38;5;124m'\u001b[39m\u001b[38;5;124mfloat64\u001b[39m\u001b[38;5;124m'\u001b[39m])\n\u001b[1;32m      4\u001b[0m \u001b[38;5;66;03m# Standardize the numerical variables\u001b[39;00m\n\u001b[1;32m      5\u001b[0m scaler \u001b[38;5;241m=\u001b[39m StandardScaler()\n",
      "\u001b[0;31mNameError\u001b[0m: name 'metro_learn' is not defined"
     ]
    }
   ],
   "source": [
    "# Select numerical variables\n",
    "numerical_vars = metro_learn.select_dtypes(include=['float64'])\n",
    "\n",
    "# Standardize the numerical variables\n",
    "scaler = StandardScaler()\n",
    "numerical_vars_scaled = scaler.fit_transform(numerical_vars)\n",
    "\n",
    "# Perform PCA\n",
    "pca = PCA()\n",
    "pca_results = pca.fit_transform(numerical_vars_scaled)"
   ]
  },
  {
   "cell_type": "code",
   "execution_count": 429,
   "id": "031213ec-7dc1-4861-9791-7a9f334a7019",
   "metadata": {},
   "outputs": [
    {
     "name": "stdout",
     "output_type": "stream",
     "text": [
      "Explained Variance Ratio: [0.21958838 0.20190111 0.13329036 0.10182305 0.09368244 0.07615144\n",
      " 0.0590339  0.04749799 0.03954581 0.01990071 0.00362252 0.0027514\n",
      " 0.0012109 ]\n",
      "PCA DataFrame Head:\n",
      "         PC1       PC2       PC3       PC4       PC5       PC6       PC7  \\\n",
      "0  3.136439  1.031619  1.179635 -0.779641  0.962838 -0.103913  5.262836   \n",
      "1  3.128144  1.040497  1.165919 -0.799500  0.988114  0.115399  5.272590   \n",
      "2  3.136439  1.031619  1.179635 -0.779641  0.962838 -0.103913  5.262836   \n",
      "3  3.128144  1.040497  1.165919 -0.799500  0.988114  0.115399  5.272590   \n",
      "4  3.136439  1.031619  1.179635 -0.779641  0.962838 -0.103913  5.262836   \n",
      "\n",
      "        PC8       PC9      PC10      PC11      PC12      PC13  \n",
      "0  0.306390  0.099832  0.318333 -0.102640  0.021590  0.002409  \n",
      "1  0.287887  0.100366  0.312983 -0.101592  0.022258  0.003825  \n",
      "2  0.306390  0.099832  0.318333 -0.102640  0.021590  0.002409  \n",
      "3  0.287887  0.100366  0.312983 -0.101592  0.022258  0.003825  \n",
      "4  0.306390  0.099832  0.318333 -0.102640  0.021590  0.002409  \n"
     ]
    }
   ],
   "source": [
    "# Create a DataFrame for the PCA results\n",
    "pca_df = pd.DataFrame(\n",
    "    pca_results,\n",
    "    columns=[f'PC{i+1}' for i in range(pca_results.shape[1])]\n",
    ")\n",
    "\n",
    "# Explained variance ratio\n",
    "explained_variance = pca.explained_variance_ratio_\n",
    "\n",
    "# Output the PCA results and explained variance\n",
    "print(\"Explained Variance Ratio:\", explained_variance)\n",
    "print(\"PCA DataFrame Head:\\n\", pca_df.head())"
   ]
  },
  {
   "cell_type": "code",
   "execution_count": 433,
   "id": "d72dffbb",
   "metadata": {},
   "outputs": [
    {
     "data": {
      "image/png": "[encoded data removed]",
      "text/plain": [
       "<Figure size 640x480 with 1 Axes>"
      ]
     },
     "metadata": {},
     "output_type": "display_data"
    }
   ],
   "source": [
    "# -or\n",
    "# Assuming you already have your dataset loaded into 'APK' DataFrame and it's preprocessed\n",
    "\n",
    "# Select numerical columns\n",
    "numerical_vars = metro_learn.select_dtypes(include=['float64'])\n",
    "\n",
    "# Standardize the data\n",
    "scaler = StandardScaler()\n",
    "numerical_vars_scaled = scaler.fit_transform(numerical_vars)\n",
    "\n",
    "# Perform PCA\n",
    "pca = PCA()\n",
    "pca.fit(numerical_vars_scaled)\n",
    "\n",
    "# Eigenvalues (explained variance for each principal component)\n",
    "eigval = pca.explained_variance_\n",
    "\n",
    "# Number of components (k)\n",
    "k = len(eigval)\n",
    "\n",
    "# Scree plot\n",
    "plt.plot(np.arange(1, k + 1), eigval, marker='o')\n",
    "plt.title(\"Scree plot\")\n",
    "plt.ylabel(\"Eigen values\")\n",
    "plt.xlabel(\"Factor number\")\n",
    "plt.grid(True)\n",
    "plt.savefig('Screeplot.png', bbox_inches='tight', dpi=300)\n",
    "plt.show()\n"
   ]
  },
  {
   "cell_type": "code",
   "execution_count": 435,
   "id": "dbc4fe7e-8840-433d-b144-56882ef68e38",
   "metadata": {},
   "outputs": [
    {
     "data": {
      "image/png": "[encoded data removed]",
      "text/plain": [
       "<Figure size 640x480 with 1 Axes>"
      ]
     },
     "metadata": {},
     "output_type": "display_data"
    }
   ],
   "source": [
    "plt.plot(np.arange(1,k+1),np.cumsum(pca.explained_variance_ratio_)) \n",
    "plt.title(\"Explained variance vs. # of factors\") \n",
    "plt.ylabel(\"Cumsum explained variance ratio\") \n",
    "plt.xlabel(\"Factor number\") \n",
    "plt.savefig('CumSumPlot.png', bbox_inches='tight', dpi=300)\n",
    "plt.show()"
   ]
  },
  {
   "cell_type": "code",
   "execution_count": 255,
   "id": "d7b2c105-1fda-4939-84c8-76d5ac14ec68",
   "metadata": {},
   "outputs": [],
   "source": [
    "## 5 factors picked for expainability"
   ]
  },
  {
   "cell_type": "code",
   "execution_count": 258,
   "id": "63af2871-144a-450f-b8e5-aa3b4fd46b36",
   "metadata": {},
   "outputs": [
    {
     "data": {
      "text/plain": [
       "array([2.62727289, 1.95070558, 1.20435089, 1.00108053, 0.61416811,\n",
       "       0.53790141, 0.05368962, 0.01188291])"
      ]
     },
     "execution_count": 258,
     "metadata": {},
     "output_type": "execute_result"
    }
   ],
   "source": [
    "eigval"
   ]
  },
  {
   "cell_type": "code",
   "execution_count": 202,
   "id": "654ebc3d-25be-4c79-b5d1-3254b391b15f",
   "metadata": {},
   "outputs": [
    {
     "name": "stdout",
     "output_type": "stream",
     "text": [
      "[0.32883105 0.56766075 0.72139829 0.84537821 0.92350753 0.99134853\n",
      " 0.99803734 1.        ]\n"
     ]
    }
   ],
   "source": [
    "print(np.cumsum(pca.explained_variance_ratio_))"
   ]
  },
  {
   "cell_type": "markdown",
   "id": "74ac54ca-a0dc-4e62-ab65-3ff0b914a25b",
   "metadata": {
    "jp-MarkdownHeadingCollapsed": true
   },
   "source": [
    "# MCA - to do"
   ]
  },
  {
   "cell_type": "code",
   "execution_count": 153,
   "id": "89b298b9-cc25-465f-8c09-15e4437a4444",
   "metadata": {},
   "outputs": [
    {
     "name": "stdout",
     "output_type": "stream",
     "text": [
      "       MCA1\n",
      "0  0.090216\n",
      "1  0.158122\n",
      "2  0.119318\n",
      "3  0.158122\n",
      "4  0.090216\n"
     ]
    }
   ],
   "source": [
    "# Assuming APK_learn is your DataFrame, and categorical columns are encoded as integers\n",
    "# Select columns that are of integer type (numerical encoded categorical columns)\n",
    "categorical_columns = APK_learn.select_dtypes(include=['int64']).columns\n",
    "\n",
    "# Run MCA using the mca library, specifying n_components for multiple components\n",
    "mca_model = mca.MCA(APK_learn[categorical_columns], ncols=7)  # Request 7 components\n",
    "\n",
    "# Access the MCA results (coordinates of the data points in the reduced space)\n",
    "mca_results = mca_model.fs_r()  # Call the function to get the result\n",
    "\n",
    "# Create a DataFrame with the MCA results\n",
    "mca_df = pd.DataFrame(mca_results, columns=[f'MCA{i+1}' for i in range(mca_results.shape[1])])\n",
    "\n",
    "# Display the first few rows of the MCA results\n",
    "print(mca_df.head())\n"
   ]
  },
  {
   "cell_type": "code",
   "execution_count": null,
   "id": "7e42c08d-9007-4570-bac4-f48a176ec9c9",
   "metadata": {},
   "outputs": [],
   "source": [
    "# Optionally, you can plot the first two components (MCA1 vs MCA2)\n",
    "plt.figure(figsize=(10, 6))\n",
    "plt.scatter(mca_df['MCA1'], mca_df['MCA2'], alpha=0.5)\n",
    "plt.title('MCA: First Two Components')\n",
    "plt.xlabel('MCA1')\n",
    "plt.ylabel('MCA2')\n",
    "plt.grid(True)\n",
    "plt.show()"
   ]
  },
  {
   "cell_type": "markdown",
   "id": "1eeb9748-2da7-4627-a080-b4bc04b7c17e",
   "metadata": {},
   "source": [
    "# Random Forest"
   ]
  },
  {
   "cell_type": "code",
   "execution_count": 507,
   "id": "ca476a63-ae6e-472e-986f-faa27a3090b0",
   "metadata": {},
   "outputs": [
    {
     "name": "stdout",
     "output_type": "stream",
     "text": [
      "There are 4 columns that have missing values.\n",
      "        Missing Values  % of Total Values\n",
      "95                   2                0.0\n",
      "98                   2                0.0\n",
      "E10                  2                0.0\n",
      "gazole               2                0.0\n"
     ]
    }
   ],
   "source": [
    "def missing_values_table(df):\n",
    "        mis_val = df.isnull().sum()\n",
    "        mis_val_percent = 100 * df.isnull().sum() / len(df)  #% of missing values\n",
    "        mis_val_table = pd.concat([mis_val, mis_val_percent], axis=1)  #create result table\n",
    "        mis_val_table_ren_columns = mis_val_table.rename(\n",
    "        columns = {0 : 'Missing Values', 1 : '% of Total Values'})\n",
    "        mis_val_table_ren_columns = mis_val_table_ren_columns[\n",
    "            mis_val_table_ren_columns.iloc[:,1] != 0].sort_values(\n",
    "        '% of Total Values', ascending=False).round(1)\n",
    "        print (\"There are \" + str(mis_val_table_ren_columns.shape[0]) +\n",
    "              \" columns that have missing values.\")\n",
    "        return mis_val_table_ren_columns\n",
    "\n",
    "print(missing_values_table(rer_learn)) "
   ]
  },
  {
   "cell_type": "markdown",
   "id": "5026fffa-e339-42f4-b0c2-9cdce01c4337",
   "metadata": {
    "jp-MarkdownHeadingCollapsed": true
   },
   "source": [
    "### include standardised float cols - unfinished"
   ]
  },
  {
   "cell_type": "raw",
   "id": "3a53a886-b6ec-43a7-8a38-c2ad6c456998",
   "metadata": {},
   "source": [
    "import pandas as pd\n",
    "from sklearn.model_selection import train_test_split, StratifiedKFold, GridSearchCV\n",
    "from sklearn.preprocessing import StandardScaler\n",
    "from sklearn.ensemble import RandomForestClassifier\n",
    "from sklearn.metrics import classification_report, accuracy_score\n",
    "from sklearn.impute import SimpleImputer\n",
    "from sklearn.compose import ColumnTransformer\n",
    "from sklearn.preprocessing import OneHotEncoder\n",
    "from sklearn.pipeline import Pipeline\n",
    "\n",
    "# Assuming APK_learn is your DataFrame and 'departure_status' is your target column\n",
    "\n",
    "# Step 1: Separate the features and target variable\n",
    "X = APK_learn.drop(columns=['departure_status'])  # All columns except the target\n",
    "y = APK_learn['departure_status']  # Target variable\n",
    "\n",
    "# Step 2: Identify numerical and categorical columns\n",
    "numerical_columns = X.select_dtypes(include=['float64']).columns\n",
    "categorical_columns = X.select_dtypes(include=['int64']).columns\n",
    "\n",
    "# Step 3: Preprocessing for numerical columns\n",
    "# Impute missing values and standardize\n",
    "numerical_pipeline = Pipeline([\n",
    "    ('imputer', SimpleImputer(strategy='mean')),  # Impute missing values with the mean\n",
    "    ('scaler', StandardScaler())  # Standardize numerical columns\n",
    "])\n",
    "\n",
    "# Step 4: Preprocessing for categorical columns\n",
    "# Impute missing values and one-hot encode categorical columns\n",
    "categorical_pipeline = Pipeline([\n",
    "    ('imputer', SimpleImputer(strategy='most_frequent')),  # Impute missing values with the most frequent value\n",
    "    ('onehot', OneHotEncoder(handle_unknown='ignore'))  # One-hot encode categorical columns\n",
    "])\n",
    "\n",
    "# Step 5: Combine both preprocessing pipelines using ColumnTransformer\n",
    "preprocessor = ColumnTransformer(\n",
    "    transformers=[\n",
    "        ('num', numerical_pipeline, numerical_columns),\n",
    "        ('cat', categorical_pipeline, categorical_columns)\n",
    "    ]\n",
    ")\n",
    "\n",
    "# Step 6: Split the data into training and testing sets\n",
    "X_train, X_test, y_train, y_test = train_test_split(X, y, test_size=0.3, random_state=42)\n",
    "\n",
    "# Step 7: Fit and transform the X_train data using the preprocessor\n",
    "X_train_transformed = preprocessor.fit_transform(X_train)\n",
    "\n",
    "# Step 8: Define the Random Forest Classifier and the parameter grid for GridSearchCV\n",
    "rf = RandomForestClassifier(random_state=42)\n",
    "\n",
    "# Define the parameter grid for GridSearchCV\n",
    "rf_grid = {\n",
    "    'n_estimators': [50, 100, 150],\n",
    "    'max_depth': [5, 10, 15, None],\n",
    "    'min_samples_split': [2, 5, 10],\n",
    "    'min_samples_leaf': [1, 2, 4]\n",
    "}\n",
    "\n",
    "# Step 9: Perform GridSearchCV with StratifiedKFold cross-validation\n",
    "cv_folds = StratifiedKFold(n_splits=10, shuffle=True, random_state=42)\n",
    "rf_cv = GridSearchCV(rf, rf_grid, cv=cv_folds, n_jobs=-1, scoring='accuracy')\n",
    "\n",
    "# Step 10: Fit the Random Forest model using GridSearchCV\n",
    "rf_cv.fit(X_train_transformed, y_train)\n",
    "\n",
    "# Step 11: Output the best hyperparameters found by GridSearchCV\n",
    "print(f\"Best hyperparameters: {rf_cv.best_params_}\")\n",
    "\n",
    "# Step 12: Transform the X_test data using the preprocessor and make predictions on the test set\n",
    "X_test_transformed = preprocessor.transform(X_test)\n",
    "y_pred = rf_cv.predict(X_test_transformed)\n",
    "\n",
    "# Step 13: Evaluate the model\n",
    "print(f\"Accuracy: {accuracy_score(y_test, y_pred):.4f}\")\n",
    "print(\"Classification Report:\")\n",
    "print(classification_report(y_test, y_pred))\n"
   ]
  },
  {
   "cell_type": "raw",
   "id": "1f40aece-e0fb-4d50-bb59-58f57dd3fc9e",
   "metadata": {},
   "source": [
    "import pandas as pd\n",
    "from sklearn.model_selection import train_test_split, StratifiedKFold, GridSearchCV\n",
    "from sklearn.preprocessing import StandardScaler\n",
    "from sklearn.ensemble import RandomForestClassifier\n",
    "from sklearn.metrics import classification_report, accuracy_score\n",
    "from sklearn.impute import SimpleImputer\n",
    "from sklearn.compose import ColumnTransformer\n",
    "from sklearn.pipeline import Pipeline\n",
    "from sklearn.preprocessing import OneHotEncoder\n",
    "\n",
    "# Assuming APK_learn is your DataFrame and 'departure_status' is your target column\n",
    "\n",
    "# Step 1: Separate the features and target variable\n",
    "X = APK_learn.drop(columns=['departure_status'])  # All columns except the target\n",
    "y = APK_learn['departure_status']  # Target variable\n",
    "\n",
    "# Step 2: Identify numerical and categorical columns\n",
    "numerical_columns = X.select_dtypes(include=['float64']).columns\n",
    "categorical_columns = X.select_dtypes(include=['int64']).columns\n",
    "\n",
    "# Step 3: Preprocessing for numerical columns\n",
    "# Impute missing values and standardize\n",
    "numerical_pipeline = Pipeline([\n",
    "    ('imputer', SimpleImputer(strategy='mean')),  # Impute missing values with the mean\n",
    "    ('scaler', StandardScaler())  # Standardize numerical columns\n",
    "])\n",
    "\n",
    "# Step 4: Preprocessing for categorical columns\n",
    "# Impute missing values and one-hot encode categorical columns\n",
    "categorical_pipeline = Pipeline([\n",
    "    ('imputer', SimpleImputer(strategy='most_frequent')),  # Impute missing values with the most frequent value\n",
    "    ('onehot', OneHotEncoder(handle_unknown='ignore'))  # One-hot encode categorical columns\n",
    "])\n",
    "\n",
    "# Step 5: Combine both preprocessing pipelines using ColumnTransformer\n",
    "preprocessor = ColumnTransformer(\n",
    "    transformers=[\n",
    "        ('num', numerical_pipeline, numerical_columns),\n",
    "        ('cat', categorical_pipeline, categorical_columns)\n",
    "    ]\n",
    ")\n",
    "\n",
    "# Step 6: Create the Random Forest Classifier pipeline (without setting hyperparameters yet)\n",
    "rf_pipeline = Pipeline([\n",
    "    ('preprocessor', preprocessor),\n",
    "    ('classifier', RandomForestClassifier(random_state=0))  # No hyperparameters set here yet\n",
    "])\n",
    "\n",
    "# Step 7: Split the data into training and testing sets\n",
    "X_train, X_test, y_train, y_test = train_test_split(X, y, test_size=0.3, random_state=42)\n",
    "\n",
    "# Step 8: Define the parameter grid for GridSearchCV\n",
    "rf_grid = {\n",
    "    'classifier__n_estimators': [50, 100, 150],\n",
    "    'classifier__max_depth': [5, 10, 15, None],\n",
    "    'classifier__min_samples_split': [2, 5, 10],\n",
    "    'classifier__min_samples_leaf': [1, 2, 4]\n",
    "}\n",
    "\n",
    "# Step 9: Perform GridSearchCV with StratifiedKFold cross-validation\n",
    "cv_folds = StratifiedKFold(n_splits=10, shuffle=True, random_state=42)\n",
    "rf_cv = GridSearchCV(rf_pipeline, rf_grid, cv=cv_folds, n_jobs=-1, scoring='accuracy')\n",
    "\n",
    "# Step 10: Fit the model using GridSearchCV\n",
    "rf_cv.fit(X_train, y_train)\n",
    "\n",
    "# Step 11: Output the best hyperparameters found by GridSearchCV\n",
    "print(f\"Best hyperparameters: {rf_cv.best_params_}\")\n",
    "\n",
    "# Step 12: Make predictions on the test set\n",
    "y_pred = rf_cv.predict(X_test)\n",
    "\n",
    "# Step 13: Evaluate the model\n",
    "print(f\"Accuracy: {accuracy_score(y_test, y_pred):.4f}\")\n",
    "print(\"Classification Report:\")\n",
    "print(classification_report(y_test, y_pred))\n"
   ]
  },
  {
   "cell_type": "markdown",
   "id": "d40d09a8-da42-4315-91fb-a99ad09292cd",
   "metadata": {},
   "source": [
    "# prediction"
   ]
  },
  {
   "cell_type": "code",
   "execution_count": 402,
   "id": "9861b5ba-0ac9-4a70-858c-8c4898fe7b59",
   "metadata": {},
   "outputs": [],
   "source": [
    "#APK_learn = APK_learn.drop([\"scheduled_arrival\"], axis=1)\n",
    "#APK_learn[\"scheduled_arrival\"] = APK_learn[\"scheduled_arrival\"].astype(object)\n",
    "# Convert datetime to numeric timestamp\n",
    "#APK_learn['scheduled_arrival_numeric'] = APK_learn['scheduled_arrival'].apply(lambda x: x.timestamp())"
   ]
  },
  {
   "cell_type": "code",
   "execution_count": 511,
   "id": "0221ca14-b9aa-47f1-8d47-06d2a9e30f3c",
   "metadata": {},
   "outputs": [],
   "source": [
    "rer_learn = rer_learn.copy()\n",
    "rer_learn.loc[:, 'scheduled_arrival' + '_year'] = rer_learn['scheduled_arrival'].dt.year\n",
    "rer_learn.loc[:, 'scheduled_arrival' + '_month'] = rer_learn['scheduled_arrival'].dt.month\n",
    "rer_learn.loc[:, 'scheduled_arrival' + '_day'] = rer_learn['scheduled_arrival'].dt.day\n",
    "rer_learn.loc[:, 'scheduled_arrival' + '_hour'] = rer_learn['scheduled_arrival'].dt.hour\n",
    "rer_learn.loc[:, 'scheduled_arrival' + '_minute'] = rer_learn['scheduled_arrival'].dt.minute\n",
    "rer_learn.loc[:, 'scheduled_arrival' + '_second'] = rer_learn['scheduled_arrival'].dt.second\n",
    "\n",
    "rer_test = rer_test.copy()\n",
    "rer_test.loc[:, 'scheduled_arrival' + '_year'] = rer_test['scheduled_arrival'].dt.year\n",
    "rer_test.loc[:, 'scheduled_arrival' + '_month'] = rer_test['scheduled_arrival'].dt.month\n",
    "rer_test.loc[:, 'scheduled_arrival' + '_day'] = rer_test['scheduled_arrival'].dt.day\n",
    "rer_test.loc[:, 'scheduled_arrival' + '_hour'] = rer_test['scheduled_arrival'].dt.hour\n",
    "rer_test.loc[:, 'scheduled_arrival' + '_minute'] = rer_test['scheduled_arrival'].dt.minute\n",
    "rer_test.loc[:, 'scheduled_arrival' + '_second'] = rer_test['scheduled_arrival'].dt.second"
   ]
  },
  {
   "cell_type": "code",
   "execution_count": 512,
   "id": "c3220205-069d-42fb-87fc-fa132dec0beb",
   "metadata": {},
   "outputs": [],
   "source": [
    "rer_learn.drop(['scheduled_arrival'], axis=1, inplace=True)  # Drop the original datetime column if not needed\n",
    "rer_test.drop(['scheduled_arrival'], axis=1, inplace=True)  # Drop the original datetime column if not needed"
   ]
  },
  {
   "cell_type": "code",
   "execution_count": 515,
   "id": "ad66fa58-bdb4-4f38-9e7e-3014a84b2864",
   "metadata": {},
   "outputs": [],
   "source": [
    "#APK_learn = APK_learn[['scheduled_arrival_numeric'] + [col for col in APK_learn.columns if col != 'scheduled_arrival_numeric']]"
   ]
  },
  {
   "cell_type": "code",
   "execution_count": 517,
   "id": "3ee16fc7-5e5b-46bf-a342-1cba7e03f6b9",
   "metadata": {},
   "outputs": [],
   "source": [
    "# Assuming APK_learn is your DataFrame\n",
    "# Extract the explanatory variables and the target variable\n",
    "rer_learn_X = rer_learn.drop('departure_status', axis=1)  # Features (exclude target)\n",
    "rer_learn_Y = rer_learn['departure_status']  # Target variable\n",
    "\n",
    "# Train-test split (80-20 split)\n",
    "X_train, X_test, Y_train, Y_test = train_test_split(rer_learn_X, \n",
    "                                                    rer_learn_Y, \n",
    "                                                    test_size=0.2, \n",
    "                                                    random_state=2,\n",
    "                                                    stratify=rer_learn_Y)\n"
   ]
  },
  {
   "cell_type": "code",
   "execution_count": 519,
   "id": "a97214f7-f811-4f79-b799-97af1bb20635",
   "metadata": {},
   "outputs": [],
   "source": [
    "# Initialize the RandomForestClassifier\n",
    "rf = RandomForestClassifier(random_state=42)\n",
    "\n",
    "# Define the parameter grid for GridSearchCV\n",
    "rf_grid = {\n",
    "    'max_depth': [5, 10, 15, None],\n",
    "    'min_samples_split': [2, 5, 10],\n",
    "    'min_samples_leaf': [1, 2, 4]\n",
    "}"
   ]
  },
  {
   "cell_type": "code",
   "execution_count": 521,
   "id": "689b1b90-03d4-4718-a3ec-09c0faee5cf7",
   "metadata": {},
   "outputs": [],
   "source": [
    "# Perform GridSearchCV with StratifiedKFold cross-validation\n",
    "cv_folds = StratifiedKFold(n_splits=10, shuffle=True, random_state=42)\n",
    "rf_cv = GridSearchCV(rf, rf_grid, cv=cv_folds, n_jobs=-1, scoring='accuracy')"
   ]
  },
  {
   "cell_type": "code",
   "execution_count": 523,
   "id": "50507afd-28e1-4714-a7c4-2d459e86ef4c",
   "metadata": {},
   "outputs": [
    {
     "name": "stdout",
     "output_type": "stream",
     "text": [
      "Best hyperparameters: {'max_depth': 15, 'min_samples_leaf': 2, 'min_samples_split': 2}\n"
     ]
    }
   ],
   "source": [
    "rf_cv.fit(X_train, Y_train)\n",
    "best_model = rf_cv.best_estimator_\n",
    "\n",
    "# Output the best hyperparameters found by GridSearchCV\n",
    "print(f\"Best hyperparameters: {rf_cv.best_params_}\")"
   ]
  },
  {
   "cell_type": "code",
   "execution_count": 524,
   "id": "5213fee4-8ec2-4c97-a225-dac71e46bb2c",
   "metadata": {},
   "outputs": [],
   "source": [
    "rer_test_X = rer_test.drop('departure_status', axis=1)  # Features (exclude target)\n",
    "rer_test_Y = rer_test['departure_status']  # Target variable\n"
   ]
  },
  {
   "cell_type": "code",
   "execution_count": 525,
   "id": "073278b1-4894-489f-9cca-1eb4a9dfa5c3",
   "metadata": {},
   "outputs": [
    {
     "name": "stdout",
     "output_type": "stream",
     "text": [
      "Training Accuracy: 0.8948\n",
      "Test Accuracy: 0.8856\n"
     ]
    }
   ],
   "source": [
    "# Evaluate the model on the test set\n",
    "y_pred_train = best_model.predict(X_train)\n",
    "y_pred_test = best_model.predict(rer_test_X)\n",
    "\n",
    "# Print the accuracy on training and test sets\n",
    "print(f\"Training Accuracy: {accuracy_score(Y_train, y_pred_train):.4f}\")\n",
    "print(f\"Test Accuracy: {accuracy_score(rer_test_Y, y_pred_test):.4f}\")\n",
    "\n",
    "# Create DataFrames for plotting prediction vs true values\n",
    "train_pred_vs_true = pd.DataFrame({'True': Y_train, \n",
    "                                   'Predicted': y_pred_train})\n",
    "\n",
    "test_pred_vs_true = pd.DataFrame({'True': rer_test_Y, \n",
    "                                  'Predicted': y_pred_test})"
   ]
  },
  {
   "cell_type": "code",
   "execution_count": 526,
   "id": "0d974eff-009f-47b8-8ce3-82e05f519a88",
   "metadata": {},
   "outputs": [],
   "source": [
    "# Assuming 'PRIMARY_KEY' is a column in your test set\n",
    "# Create a DataFrame with PRIMARY_KEY and predicted target values\n",
    "predictions_df = pd.DataFrame({\n",
    "    'datetime': rer_test_X[['scheduled_arrival_year', 'scheduled_arrival_month', 'scheduled_arrival_day', \n",
    "                           'scheduled_arrival_hour', 'scheduled_arrival_minute', 'scheduled_arrival_second']].apply(\n",
    "                            lambda row: '-'.join(row.astype(str)), axis=1),  # Combine as a single key\n",
    "    'target': y_pred_test\n",
    "})\n",
    "\n",
    "\n",
    "# Save the predictions to a CSV file\n",
    "#predictions_df.to_csv('APK_prediction.csv', index=False, sep=',', float_format='%.6f')  # Save with US decimal notation\n"
   ]
  },
  {
   "cell_type": "code",
   "execution_count": 527,
   "id": "a4ebf670-8cf8-4950-a576-87e0ab6f2bc4",
   "metadata": {},
   "outputs": [],
   "source": [
    "#rer_pred = pd.read_csv(\"APK_prediction.csv\")"
   ]
  },
  {
   "cell_type": "code",
   "execution_count": 528,
   "id": "80f1d3e6-a114-49d0-b4ff-65efa0ce7de8",
   "metadata": {},
   "outputs": [
    {
     "name": "stdout",
     "output_type": "stream",
     "text": [
      "[[  0  82]\n",
      " [  0 635]]\n"
     ]
    }
   ],
   "source": [
    "# Generate confusion matrix\n",
    "conf_matrix = confusion_matrix(rer_test_Y, y_pred_test)\n",
    "print(conf_matrix)\n"
   ]
  },
  {
   "cell_type": "raw",
   "id": "4ebffb8e-8545-489e-af3f-5f60a9a9fb8a",
   "metadata": {},
   "source": [
    "should we control the direction too? consider one stop and one direction?? group final direction to make binary?"
   ]
  },
  {
   "cell_type": "code",
   "execution_count": 529,
   "id": "5cd83056-07b2-496f-a21a-61ecb35e2993",
   "metadata": {},
   "outputs": [
    {
     "data": {
      "text/plain": [
       "departure_status\n",
       "onTime     6397\n",
       "delayed    1041\n",
       "Name: count, dtype: Int64"
      ]
     },
     "execution_count": 529,
     "metadata": {},
     "output_type": "execute_result"
    }
   ],
   "source": [
    "rer['departure_status'].value_counts()"
   ]
  },
  {
   "cell_type": "code",
   "execution_count": null,
   "id": "1aedfe90-7139-4966-9782-05087a243a22",
   "metadata": {},
   "outputs": [],
   "source": []
  }
 ],
 "metadata": {
  "kernelspec": {
   "display_name": "Python 3 (ipykernel)",
   "language": "python",
   "name": "python3"
  },
  "language_info": {
   "codemirror_mode": {
    "name": "ipython",
    "version": 3
   },
   "file_extension": ".py",
   "mimetype": "text/x-python",
   "name": "python",
   "nbconvert_exporter": "python",
   "pygments_lexer": "ipython3",
   "version": "3.11.7"
  }
 },
 "nbformat": 4,
 "nbformat_minor": 5
}
