{
 "cells": [
  {
   "cell_type": "code",
   "execution_count": 482,
   "id": "389988fd-7d4d-46f6-a4bd-5cfe39210089",
   "metadata": {},
   "outputs": [],
   "source": [
    "import numpy as np\n",
    "import pandas as pd\n",
    "import seaborn as sns\n",
    "import matplotlib.pyplot as plt\n",
    "from imblearn.over_sampling import SMOTE\n",
    "from sklearn.decomposition import PCA\n",
    "from sklearn.preprocessing import StandardScaler\n",
    "from sklearn.compose import ColumnTransformer\n",
    "from sklearn.pipeline import Pipeline\n",
    "from sklearn.ensemble import RandomForestClassifier\n",
    "from sklearn.metrics import accuracy_score, confusion_matrix\n",
    "from sklearn.model_selection import train_test_split, ShuffleSplit, KFold, cross_val_score, GridSearchCV, StratifiedKFold"
   ]
  },
  {
   "cell_type": "code",
   "execution_count": 520,
   "id": "b82074a5-aa74-497f-9fcb-a251cb9335d1",
   "metadata": {},
   "outputs": [],
   "source": [
    "rer = pd.read_csv(\"./Stations/APK.csv\", low_memory=False)"
   ]
  },
  {
   "cell_type": "markdown",
   "id": "375c2acb",
   "metadata": {},
   "source": [
    "# Cleaning again"
   ]
  },
  {
   "cell_type": "code",
   "execution_count": 523,
   "id": "87cf83a8-b194-4aab-bf0e-2dc12210320b",
   "metadata": {},
   "outputs": [],
   "source": [
    "rer['nearest_datetime'] = pd.to_datetime(rer['nearest_datetime'], format='%Y-%m-%d %H:%M:%S')\n",
    "\n",
    "rer = rer.sort_values(by='destination_name', ascending=False)\n",
    "rer['destination_name'] = pd.factorize(rer[\"destination_name\"])[0]\n",
    "\n",
    "rer = rer.sort_values(by='nearest_datetime', ascending=True)\n",
    "\n",
    "rer[\"departure_status\"] = rer[\"departure_status\"].astype(\"string\")\n",
    "rer[\"is_day\"] = rer[\"is_day\"].astype(int)\n",
    "\n",
    "rer['pourc_validations'] = rer['pourc_validations'].fillna(0)\n",
    "\n",
    "rer = rer.drop(['stop_name', \"timestamp\", \"real_departure\", \"scheduled_arrival\", \"scheduled_departure\", \"Période\", \"real_arrival\", \"arrival_difference\", \"departure_difference\", \"ArRTown\", \"Date\", \"day_type\", \"is_bank_holiday\", \"is_weekend\"], axis=1)"
   ]
  },
  {
   "cell_type": "code",
   "execution_count": 525,
   "id": "6fb05af5-5c1d-4919-b6d1-cb4f31c07259",
   "metadata": {},
   "outputs": [],
   "source": [
    "rer_learn = rer\n",
    "rer_test = rer\n",
    "\n",
    "start_date = pd.to_datetime('2024-11-02 00:00:00')\n",
    "end_date = pd.to_datetime('2025-01-12 23:59:59')\n",
    "\n",
    "start_date2 = pd.to_datetime('2025-01-13 00:00:00')\n",
    "end_date2 = pd.to_datetime('2025-01-19 23:59:59')\n",
    "\n",
    "rer_learn = rer_learn[(rer_learn['nearest_datetime'] >= start_date) & (rer_learn['nearest_datetime'] <= end_date)]\n",
    "rer_test = rer_test[(rer_test['nearest_datetime'] >= start_date2) & (rer_test['nearest_datetime'] <= end_date2)]\n"
   ]
  },
  {
   "cell_type": "code",
   "execution_count": 527,
   "id": "e1d5c568-f4c3-414a-aa96-433873837994",
   "metadata": {},
   "outputs": [],
   "source": [
    "rer_learn = rer_learn.copy()\n",
    "rer_learn.drop(['nearest_datetime'], axis=1, inplace=True)  # Drop the original datetime column if not needed\n",
    "\n",
    "rer_test = rer_test.copy()\n",
    "rer_test.drop(['nearest_datetime'], axis=1, inplace=True)  # Drop the original datetime column if not needed"
   ]
  },
  {
   "cell_type": "code",
   "execution_count": 529,
   "id": "6b5786eb-aac2-42bd-b0bb-dd19e3f93a22",
   "metadata": {},
   "outputs": [
    {
     "name": "stdout",
     "output_type": "stream",
     "text": [
      "There are 0 columns that have missing values.\n",
      "Empty DataFrame\n",
      "Columns: [Missing Values, % of Total Values]\n",
      "Index: []\n"
     ]
    }
   ],
   "source": [
    "def missing_values_table(df):\n",
    "        mis_val = df.isnull().sum()\n",
    "        mis_val_percent = 100 * df.isnull().sum() / len(df)  #% of missing values\n",
    "        mis_val_table = pd.concat([mis_val, mis_val_percent], axis=1)  #create result table\n",
    "        mis_val_table_ren_columns = mis_val_table.rename(\n",
    "        columns = {0 : 'Missing Values', 1 : '% of Total Values'})\n",
    "        mis_val_table_ren_columns = mis_val_table_ren_columns[\n",
    "            mis_val_table_ren_columns.iloc[:,1] != 0].sort_values(\n",
    "        '% of Total Values', ascending=False).round(1)\n",
    "        print (\"There are \" + str(mis_val_table_ren_columns.shape[0]) +\n",
    "              \" columns that have missing values.\")\n",
    "        return mis_val_table_ren_columns\n",
    "\n",
    "print(missing_values_table(rer_learn)) "
   ]
  },
  {
   "cell_type": "markdown",
   "id": "1f7d9cae-5612-4246-8692-498c0fbfde27",
   "metadata": {},
   "source": [
    "# PCA"
   ]
  },
  {
   "cell_type": "code",
   "execution_count": 607,
   "id": "62c0abd0-83a2-4631-9efa-9f2d7197d996",
   "metadata": {},
   "outputs": [],
   "source": [
    "#Standardise continuous numerical vars\n",
    "numerical_vars = rer.select_dtypes(include=['float64'])\n",
    "\n",
    "scaler = StandardScaler()\n",
    "numerical_vars_scaled = scaler.fit_transform(numerical_vars)\n",
    "\n",
    "pca = PCA()\n",
    "pca_results = pca.fit_transform(numerical_vars_scaled)"
   ]
  },
  {
   "cell_type": "code",
   "execution_count": 608,
   "id": "031213ec-7dc1-4861-9791-7a9f334a7019",
   "metadata": {},
   "outputs": [
    {
     "name": "stdout",
     "output_type": "stream",
     "text": [
      "Explained Variance Ratio: [2.50771455e-01 1.18312645e-01 9.07901110e-02 7.55236293e-02\n",
      " 5.77872802e-02 5.44540854e-02 5.35200059e-02 4.64982140e-02\n",
      " 4.51005266e-02 4.38641989e-02 4.21271763e-02 3.39162333e-02\n",
      " 2.89567151e-02 2.65308786e-02 1.70884546e-02 1.33628938e-02\n",
      " 8.24888161e-04 5.52419318e-04 1.81900394e-05 1.72615995e-16\n",
      " 2.29421543e-17 0.00000000e+00]\n",
      "PCA DataFrame Head:\n",
      "         PC1       PC2       PC3       PC4       PC5       PC6       PC7  \\\n",
      "0 -2.144025 -2.775598 -2.685101  0.132955 -1.281765 -3.863939 -1.018937   \n",
      "1 -2.196780 -2.630138 -2.425465  0.311768 -0.929297 -4.163986 -1.091704   \n",
      "2 -2.221488 -2.432767 -2.520777  0.049403 -1.255671 -3.871033 -1.199416   \n",
      "3 -2.466342 -2.320167 -2.171285  0.507617 -3.187477 -2.988426 -2.367049   \n",
      "4 -2.730448 -1.331574 -0.005966  2.917705 -2.285809 -2.735219 -1.313370   \n",
      "\n",
      "        PC8       PC9      PC10  ...      PC13      PC14      PC15      PC16  \\\n",
      "0  1.223973  2.765037  0.070920  ... -1.469332 -0.623658  0.562193  0.477360   \n",
      "1  1.361479  1.178939 -2.120505  ... -0.374951 -0.959539  0.419427  0.526062   \n",
      "2  1.469911  2.461802  0.137148  ... -1.647346 -0.937574  0.570475  0.378004   \n",
      "3 -0.916240  1.904785 -0.288839  ...  0.034614 -1.306173  0.478767  0.576392   \n",
      "4 -0.636047  1.610826 -1.923161  ... -3.257112 -1.481329  0.382721  0.617186   \n",
      "\n",
      "       PC17      PC18      PC19          PC20          PC21          PC22  \n",
      "0  0.002287  0.003923 -0.838899 -9.558877e-13 -3.167188e-12 -4.644109e-12  \n",
      "1 -0.048191  0.011096 -0.839680 -9.571698e-13 -3.171272e-12 -4.648580e-12  \n",
      "2 -0.169814  0.018282 -0.838808 -9.558773e-13 -3.167735e-12 -4.644461e-12  \n",
      "3  0.013780 -0.004062 -0.840340 -9.576533e-13 -3.173374e-12 -4.651879e-12  \n",
      "4 -0.073092 -0.010118 -0.838960 -9.557246e-13 -3.166949e-12 -4.644861e-12  \n",
      "\n",
      "[5 rows x 22 columns]\n"
     ]
    }
   ],
   "source": [
    "pca_df = pd.DataFrame(\n",
    "    pca_results,\n",
    "    columns=[f'PC{i+1}' for i in range(pca_results.shape[1])]\n",
    ")\n",
    "\n",
    "explained_variance = pca.explained_variance_ratio_\n",
    "\n",
    "print(\"Explained Variance Ratio:\", explained_variance)\n",
    "print(\"PCA DataFrame Head:\\n\", pca_df.head())"
   ]
  },
  {
   "cell_type": "code",
   "execution_count": 609,
   "id": "d72dffbb",
   "metadata": {},
   "outputs": [
    {
     "data": {
      "image/png": "[encoded data removed]",
      "text/plain": [
       "<Figure size 640x480 with 1 Axes>"
      ]
     },
     "metadata": {},
     "output_type": "display_data"
    }
   ],
   "source": [
    "eigval = pca.explained_variance_\n",
    "\n",
    "k = len(eigval)\n",
    "\n",
    "plt.plot(np.arange(1, k + 1), eigval, marker='o')\n",
    "plt.title(\"Scree plot\")\n",
    "plt.ylabel(\"Eigen values\")\n",
    "plt.xlabel(\"Factor number\")\n",
    "plt.grid(True)\n",
    "plt.savefig('Screeplot_APK.png', bbox_inches='tight', dpi=300)\n",
    "plt.show()"
   ]
  },
  {
   "cell_type": "code",
   "execution_count": 610,
   "id": "dbc4fe7e-8840-433d-b144-56882ef68e38",
   "metadata": {},
   "outputs": [
    {
     "data": {
      "image/png": "[encoded data removed]",
      "text/plain": [
       "<Figure size 640x480 with 1 Axes>"
      ]
     },
     "metadata": {},
     "output_type": "display_data"
    }
   ],
   "source": [
    "plt.plot(np.arange(1,k+1),np.cumsum(pca.explained_variance_ratio_)) \n",
    "plt.title(\"Explained variance vs. # of factors\") \n",
    "plt.ylabel(\"Cumsum explained variance ratio\") \n",
    "plt.xlabel(\"Factor number\") \n",
    "plt.savefig('CumSumPlot_APK.png', bbox_inches='tight', dpi=300)\n",
    "plt.show()"
   ]
  },
  {
   "cell_type": "code",
   "execution_count": 611,
   "id": "d7b2c105-1fda-4939-84c8-76d5ac14ec68",
   "metadata": {},
   "outputs": [],
   "source": [
    "## 10 factors picked for expainability"
   ]
  },
  {
   "cell_type": "code",
   "execution_count": 617,
   "id": "63af2871-144a-450f-b8e5-aa3b4fd46b36",
   "metadata": {},
   "outputs": [
    {
     "data": {
      "text/plain": [
       "array([5.51747838e+00, 2.60311709e+00, 1.99756577e+00, 1.66167235e+00,\n",
       "       1.27143685e+00, 1.19809984e+00, 1.17754820e+00, 1.02305460e+00,\n",
       "       9.92302655e-01, 9.65100950e-01, 9.26882944e-01, 7.46225620e-01,\n",
       "       6.37106203e-01, 5.83732902e-01, 3.75980507e-01, 2.94010648e-01,\n",
       "       1.81492052e-02, 1.21543405e-02, 4.00217598e-04, 3.79790044e-15,\n",
       "       5.04773720e-16, 0.00000000e+00])"
      ]
     },
     "execution_count": 617,
     "metadata": {},
     "output_type": "execute_result"
    }
   ],
   "source": [
    "eigval"
   ]
  },
  {
   "cell_type": "code",
   "execution_count": 619,
   "id": "654ebc3d-25be-4c79-b5d1-3254b391b15f",
   "metadata": {},
   "outputs": [
    {
     "name": "stdout",
     "output_type": "stream",
     "text": [
      "[0.25077145 0.3690841  0.45987421 0.53539784 0.59318512 0.64763921\n",
      " 0.70115921 0.74765743 0.79275795 0.83662215 0.87874933 0.91266556\n",
      " 0.94162228 0.96815315 0.98524161 0.9986045  0.99942939 0.99998181\n",
      " 1.         1.         1.         1.        ]\n"
     ]
    }
   ],
   "source": [
    "print(np.cumsum(pca.explained_variance_ratio_))"
   ]
  },
  {
   "cell_type": "markdown",
   "id": "1eeb9748-2da7-4627-a080-b4bc04b7c17e",
   "metadata": {},
   "source": [
    "# Logistic Regression"
   ]
  },
  {
   "cell_type": "code",
   "execution_count": 531,
   "id": "6a06fc6b-9905-4722-ad61-43282cf89613",
   "metadata": {},
   "outputs": [],
   "source": [
    "rer_learn_X = rer_learn.drop('departure_status', axis=1)  # (exclude target)\n",
    "rer_learn_Y = rer_learn['departure_status']  # Target variable\n",
    "rer_learn_Y = rer_learn_Y.apply(lambda x: 1 if x in ['delayed', 'cancelled'] else 0)"
   ]
  },
  {
   "cell_type": "code",
   "execution_count": 533,
   "id": "a7e8b4da-e27a-4ac5-8166-4416242a9872",
   "metadata": {},
   "outputs": [],
   "source": [
    "X_train, X_test, Y_train, Y_test = train_test_split(rer_learn_X, \n",
    "                                                    rer_learn_Y, \n",
    "                                                    test_size=0.2, \n",
    "                                                    random_state=42, \n",
    "                                                    stratify=rer_learn_Y)"
   ]
  },
  {
   "cell_type": "code",
   "execution_count": 535,
   "id": "bca70f57-6452-4f7d-b3ea-272186ecf1f3",
   "metadata": {},
   "outputs": [],
   "source": [
    "#Numerical features => standard scaling \n",
    "\n",
    "numeric_features = ['temperature_2m', 'precipitation', 'rain', 'snowfall', 'wind_gusts_10m', 'wind_speed_10m', 'visibility']\n",
    "\n",
    "numeric_transformer = StandardScaler()\n",
    "\n",
    "preprocessor = ColumnTransformer(\n",
    "    transformers=[\n",
    "        ('num', numeric_transformer, numeric_features)])"
   ]
  },
  {
   "cell_type": "code",
   "execution_count": 537,
   "id": "1e14a060-189b-42c6-91f1-516940702b4e",
   "metadata": {},
   "outputs": [],
   "source": [
    "from sklearn.linear_model import ElasticNet, Lasso, LogisticRegression\n",
    "# Define the pipeline\n",
    "pipeline = Pipeline([\n",
    "    ('preprocessor', preprocessor),\n",
    "    ('model', LogisticRegression(penalty='elasticnet', solver='saga', max_iter=1000)) \n",
    "])"
   ]
  },
  {
   "cell_type": "code",
   "execution_count": 539,
   "id": "966393cd-4843-4d14-8882-9d56fadfb34a",
   "metadata": {},
   "outputs": [],
   "source": [
    "param_grid = {\n",
    "    'model__C': [0.01, 0.1, 1, 10, 100],  # Regularization strength\n",
    "    'model__l1_ratio': [0.1, 0.5, 0.7, 0.9],  # Elastic Net mix\n",
    "}"
   ]
  },
  {
   "cell_type": "code",
   "execution_count": 541,
   "id": "871742b9-fdf8-4a19-8a1a-ee4f3f210460",
   "metadata": {},
   "outputs": [
    {
     "data": {
      "text/html": [
       "<style>#sk-container-id-6 {\n",
       "  /* Definition of color scheme common for light and dark mode */\n",
       "  --sklearn-color-text: black;\n",
       "  --sklearn-color-line: gray;\n",
       "  /* Definition of color scheme for unfitted estimators */\n",
       "  --sklearn-color-unfitted-level-0: #fff5e6;\n",
       "  --sklearn-color-unfitted-level-1: #f6e4d2;\n",
       "  --sklearn-color-unfitted-level-2: #ffe0b3;\n",
       "  --sklearn-color-unfitted-level-3: chocolate;\n",
       "  /* Definition of color scheme for fitted estimators */\n",
       "  --sklearn-color-fitted-level-0: #f0f8ff;\n",
       "  --sklearn-color-fitted-level-1: #d4ebff;\n",
       "  --sklearn-color-fitted-level-2: #b3dbfd;\n",
       "  --sklearn-color-fitted-level-3: cornflowerblue;\n",
       "\n",
       "  /* Specific color for light theme */\n",
       "  --sklearn-color-text-on-default-background: var(--sg-text-color, var(--theme-code-foreground, var(--jp-content-font-color1, black)));\n",
       "  --sklearn-color-background: var(--sg-background-color, var(--theme-background, var(--jp-layout-color0, white)));\n",
       "  --sklearn-color-border-box: var(--sg-text-color, var(--theme-code-foreground, var(--jp-content-font-color1, black)));\n",
       "  --sklearn-color-icon: #696969;\n",
       "\n",
       "  @media (prefers-color-scheme: dark) {\n",
       "    /* Redefinition of color scheme for dark theme */\n",
       "    --sklearn-color-text-on-default-background: var(--sg-text-color, var(--theme-code-foreground, var(--jp-content-font-color1, white)));\n",
       "    --sklearn-color-background: var(--sg-background-color, var(--theme-background, var(--jp-layout-color0, #111)));\n",
       "    --sklearn-color-border-box: var(--sg-text-color, var(--theme-code-foreground, var(--jp-content-font-color1, white)));\n",
       "    --sklearn-color-icon: #878787;\n",
       "  }\n",
       "}\n",
       "\n",
       "#sk-container-id-6 {\n",
       "  color: var(--sklearn-color-text);\n",
       "}\n",
       "\n",
       "#sk-container-id-6 pre {\n",
       "  padding: 0;\n",
       "}\n",
       "\n",
       "#sk-container-id-6 input.sk-hidden--visually {\n",
       "  border: 0;\n",
       "  clip: rect(1px 1px 1px 1px);\n",
       "  clip: rect(1px, 1px, 1px, 1px);\n",
       "  height: 1px;\n",
       "  margin: -1px;\n",
       "  overflow: hidden;\n",
       "  padding: 0;\n",
       "  position: absolute;\n",
       "  width: 1px;\n",
       "}\n",
       "\n",
       "#sk-container-id-6 div.sk-dashed-wrapped {\n",
       "  border: 1px dashed var(--sklearn-color-line);\n",
       "  margin: 0 0.4em 0.5em 0.4em;\n",
       "  box-sizing: border-box;\n",
       "  padding-bottom: 0.4em;\n",
       "  background-color: var(--sklearn-color-background);\n",
       "}\n",
       "\n",
       "#sk-container-id-6 div.sk-container {\n",
       "  /* jupyter's `normalize.less` sets `[hidden] { display: none; }`\n",
       "     but bootstrap.min.css set `[hidden] { display: none !important; }`\n",
       "     so we also need the `!important` here to be able to override the\n",
       "     default hidden behavior on the sphinx rendered scikit-learn.org.\n",
       "     See: https://github.com/scikit-learn/scikit-learn/issues/21755 */\n",
       "  display: inline-block !important;\n",
       "  position: relative;\n",
       "}\n",
       "\n",
       "#sk-container-id-6 div.sk-text-repr-fallback {\n",
       "  display: none;\n",
       "}\n",
       "\n",
       "div.sk-parallel-item,\n",
       "div.sk-serial,\n",
       "div.sk-item {\n",
       "  /* draw centered vertical line to link estimators */\n",
       "  background-image: linear-gradient(var(--sklearn-color-text-on-default-background), var(--sklearn-color-text-on-default-background));\n",
       "  background-size: 2px 100%;\n",
       "  background-repeat: no-repeat;\n",
       "  background-position: center center;\n",
       "}\n",
       "\n",
       "/* Parallel-specific style estimator block */\n",
       "\n",
       "#sk-container-id-6 div.sk-parallel-item::after {\n",
       "  content: \"\";\n",
       "  width: 100%;\n",
       "  border-bottom: 2px solid var(--sklearn-color-text-on-default-background);\n",
       "  flex-grow: 1;\n",
       "}\n",
       "\n",
       "#sk-container-id-6 div.sk-parallel {\n",
       "  display: flex;\n",
       "  align-items: stretch;\n",
       "  justify-content: center;\n",
       "  background-color: var(--sklearn-color-background);\n",
       "  position: relative;\n",
       "}\n",
       "\n",
       "#sk-container-id-6 div.sk-parallel-item {\n",
       "  display: flex;\n",
       "  flex-direction: column;\n",
       "}\n",
       "\n",
       "#sk-container-id-6 div.sk-parallel-item:first-child::after {\n",
       "  align-self: flex-end;\n",
       "  width: 50%;\n",
       "}\n",
       "\n",
       "#sk-container-id-6 div.sk-parallel-item:last-child::after {\n",
       "  align-self: flex-start;\n",
       "  width: 50%;\n",
       "}\n",
       "\n",
       "#sk-container-id-6 div.sk-parallel-item:only-child::after {\n",
       "  width: 0;\n",
       "}\n",
       "\n",
       "/* Serial-specific style estimator block */\n",
       "\n",
       "#sk-container-id-6 div.sk-serial {\n",
       "  display: flex;\n",
       "  flex-direction: column;\n",
       "  align-items: center;\n",
       "  background-color: var(--sklearn-color-background);\n",
       "  padding-right: 1em;\n",
       "  padding-left: 1em;\n",
       "}\n",
       "\n",
       "\n",
       "/* Toggleable style: style used for estimator/Pipeline/ColumnTransformer box that is\n",
       "clickable and can be expanded/collapsed.\n",
       "- Pipeline and ColumnTransformer use this feature and define the default style\n",
       "- Estimators will overwrite some part of the style using the `sk-estimator` class\n",
       "*/\n",
       "\n",
       "/* Pipeline and ColumnTransformer style (default) */\n",
       "\n",
       "#sk-container-id-6 div.sk-toggleable {\n",
       "  /* Default theme specific background. It is overwritten whether we have a\n",
       "  specific estimator or a Pipeline/ColumnTransformer */\n",
       "  background-color: var(--sklearn-color-background);\n",
       "}\n",
       "\n",
       "/* Toggleable label */\n",
       "#sk-container-id-6 label.sk-toggleable__label {\n",
       "  cursor: pointer;\n",
       "  display: block;\n",
       "  width: 100%;\n",
       "  margin-bottom: 0;\n",
       "  padding: 0.5em;\n",
       "  box-sizing: border-box;\n",
       "  text-align: center;\n",
       "}\n",
       "\n",
       "#sk-container-id-6 label.sk-toggleable__label-arrow:before {\n",
       "  /* Arrow on the left of the label */\n",
       "  content: \"▸\";\n",
       "  float: left;\n",
       "  margin-right: 0.25em;\n",
       "  color: var(--sklearn-color-icon);\n",
       "}\n",
       "\n",
       "#sk-container-id-6 label.sk-toggleable__label-arrow:hover:before {\n",
       "  color: var(--sklearn-color-text);\n",
       "}\n",
       "\n",
       "/* Toggleable content - dropdown */\n",
       "\n",
       "#sk-container-id-6 div.sk-toggleable__content {\n",
       "  max-height: 0;\n",
       "  max-width: 0;\n",
       "  overflow: hidden;\n",
       "  text-align: left;\n",
       "  /* unfitted */\n",
       "  background-color: var(--sklearn-color-unfitted-level-0);\n",
       "}\n",
       "\n",
       "#sk-container-id-6 div.sk-toggleable__content.fitted {\n",
       "  /* fitted */\n",
       "  background-color: var(--sklearn-color-fitted-level-0);\n",
       "}\n",
       "\n",
       "#sk-container-id-6 div.sk-toggleable__content pre {\n",
       "  margin: 0.2em;\n",
       "  border-radius: 0.25em;\n",
       "  color: var(--sklearn-color-text);\n",
       "  /* unfitted */\n",
       "  background-color: var(--sklearn-color-unfitted-level-0);\n",
       "}\n",
       "\n",
       "#sk-container-id-6 div.sk-toggleable__content.fitted pre {\n",
       "  /* unfitted */\n",
       "  background-color: var(--sklearn-color-fitted-level-0);\n",
       "}\n",
       "\n",
       "#sk-container-id-6 input.sk-toggleable__control:checked~div.sk-toggleable__content {\n",
       "  /* Expand drop-down */\n",
       "  max-height: 200px;\n",
       "  max-width: 100%;\n",
       "  overflow: auto;\n",
       "}\n",
       "\n",
       "#sk-container-id-6 input.sk-toggleable__control:checked~label.sk-toggleable__label-arrow:before {\n",
       "  content: \"▾\";\n",
       "}\n",
       "\n",
       "/* Pipeline/ColumnTransformer-specific style */\n",
       "\n",
       "#sk-container-id-6 div.sk-label input.sk-toggleable__control:checked~label.sk-toggleable__label {\n",
       "  color: var(--sklearn-color-text);\n",
       "  background-color: var(--sklearn-color-unfitted-level-2);\n",
       "}\n",
       "\n",
       "#sk-container-id-6 div.sk-label.fitted input.sk-toggleable__control:checked~label.sk-toggleable__label {\n",
       "  background-color: var(--sklearn-color-fitted-level-2);\n",
       "}\n",
       "\n",
       "/* Estimator-specific style */\n",
       "\n",
       "/* Colorize estimator box */\n",
       "#sk-container-id-6 div.sk-estimator input.sk-toggleable__control:checked~label.sk-toggleable__label {\n",
       "  /* unfitted */\n",
       "  background-color: var(--sklearn-color-unfitted-level-2);\n",
       "}\n",
       "\n",
       "#sk-container-id-6 div.sk-estimator.fitted input.sk-toggleable__control:checked~label.sk-toggleable__label {\n",
       "  /* fitted */\n",
       "  background-color: var(--sklearn-color-fitted-level-2);\n",
       "}\n",
       "\n",
       "#sk-container-id-6 div.sk-label label.sk-toggleable__label,\n",
       "#sk-container-id-6 div.sk-label label {\n",
       "  /* The background is the default theme color */\n",
       "  color: var(--sklearn-color-text-on-default-background);\n",
       "}\n",
       "\n",
       "/* On hover, darken the color of the background */\n",
       "#sk-container-id-6 div.sk-label:hover label.sk-toggleable__label {\n",
       "  color: var(--sklearn-color-text);\n",
       "  background-color: var(--sklearn-color-unfitted-level-2);\n",
       "}\n",
       "\n",
       "/* Label box, darken color on hover, fitted */\n",
       "#sk-container-id-6 div.sk-label.fitted:hover label.sk-toggleable__label.fitted {\n",
       "  color: var(--sklearn-color-text);\n",
       "  background-color: var(--sklearn-color-fitted-level-2);\n",
       "}\n",
       "\n",
       "/* Estimator label */\n",
       "\n",
       "#sk-container-id-6 div.sk-label label {\n",
       "  font-family: monospace;\n",
       "  font-weight: bold;\n",
       "  display: inline-block;\n",
       "  line-height: 1.2em;\n",
       "}\n",
       "\n",
       "#sk-container-id-6 div.sk-label-container {\n",
       "  text-align: center;\n",
       "}\n",
       "\n",
       "/* Estimator-specific */\n",
       "#sk-container-id-6 div.sk-estimator {\n",
       "  font-family: monospace;\n",
       "  border: 1px dotted var(--sklearn-color-border-box);\n",
       "  border-radius: 0.25em;\n",
       "  box-sizing: border-box;\n",
       "  margin-bottom: 0.5em;\n",
       "  /* unfitted */\n",
       "  background-color: var(--sklearn-color-unfitted-level-0);\n",
       "}\n",
       "\n",
       "#sk-container-id-6 div.sk-estimator.fitted {\n",
       "  /* fitted */\n",
       "  background-color: var(--sklearn-color-fitted-level-0);\n",
       "}\n",
       "\n",
       "/* on hover */\n",
       "#sk-container-id-6 div.sk-estimator:hover {\n",
       "  /* unfitted */\n",
       "  background-color: var(--sklearn-color-unfitted-level-2);\n",
       "}\n",
       "\n",
       "#sk-container-id-6 div.sk-estimator.fitted:hover {\n",
       "  /* fitted */\n",
       "  background-color: var(--sklearn-color-fitted-level-2);\n",
       "}\n",
       "\n",
       "/* Specification for estimator info (e.g. \"i\" and \"?\") */\n",
       "\n",
       "/* Common style for \"i\" and \"?\" */\n",
       "\n",
       ".sk-estimator-doc-link,\n",
       "a:link.sk-estimator-doc-link,\n",
       "a:visited.sk-estimator-doc-link {\n",
       "  float: right;\n",
       "  font-size: smaller;\n",
       "  line-height: 1em;\n",
       "  font-family: monospace;\n",
       "  background-color: var(--sklearn-color-background);\n",
       "  border-radius: 1em;\n",
       "  height: 1em;\n",
       "  width: 1em;\n",
       "  text-decoration: none !important;\n",
       "  margin-left: 1ex;\n",
       "  /* unfitted */\n",
       "  border: var(--sklearn-color-unfitted-level-1) 1pt solid;\n",
       "  color: var(--sklearn-color-unfitted-level-1);\n",
       "}\n",
       "\n",
       ".sk-estimator-doc-link.fitted,\n",
       "a:link.sk-estimator-doc-link.fitted,\n",
       "a:visited.sk-estimator-doc-link.fitted {\n",
       "  /* fitted */\n",
       "  border: var(--sklearn-color-fitted-level-1) 1pt solid;\n",
       "  color: var(--sklearn-color-fitted-level-1);\n",
       "}\n",
       "\n",
       "/* On hover */\n",
       "div.sk-estimator:hover .sk-estimator-doc-link:hover,\n",
       ".sk-estimator-doc-link:hover,\n",
       "div.sk-label-container:hover .sk-estimator-doc-link:hover,\n",
       ".sk-estimator-doc-link:hover {\n",
       "  /* unfitted */\n",
       "  background-color: var(--sklearn-color-unfitted-level-3);\n",
       "  color: var(--sklearn-color-background);\n",
       "  text-decoration: none;\n",
       "}\n",
       "\n",
       "div.sk-estimator.fitted:hover .sk-estimator-doc-link.fitted:hover,\n",
       ".sk-estimator-doc-link.fitted:hover,\n",
       "div.sk-label-container:hover .sk-estimator-doc-link.fitted:hover,\n",
       ".sk-estimator-doc-link.fitted:hover {\n",
       "  /* fitted */\n",
       "  background-color: var(--sklearn-color-fitted-level-3);\n",
       "  color: var(--sklearn-color-background);\n",
       "  text-decoration: none;\n",
       "}\n",
       "\n",
       "/* Span, style for the box shown on hovering the info icon */\n",
       ".sk-estimator-doc-link span {\n",
       "  display: none;\n",
       "  z-index: 9999;\n",
       "  position: relative;\n",
       "  font-weight: normal;\n",
       "  right: .2ex;\n",
       "  padding: .5ex;\n",
       "  margin: .5ex;\n",
       "  width: min-content;\n",
       "  min-width: 20ex;\n",
       "  max-width: 50ex;\n",
       "  color: var(--sklearn-color-text);\n",
       "  box-shadow: 2pt 2pt 4pt #999;\n",
       "  /* unfitted */\n",
       "  background: var(--sklearn-color-unfitted-level-0);\n",
       "  border: .5pt solid var(--sklearn-color-unfitted-level-3);\n",
       "}\n",
       "\n",
       ".sk-estimator-doc-link.fitted span {\n",
       "  /* fitted */\n",
       "  background: var(--sklearn-color-fitted-level-0);\n",
       "  border: var(--sklearn-color-fitted-level-3);\n",
       "}\n",
       "\n",
       ".sk-estimator-doc-link:hover span {\n",
       "  display: block;\n",
       "}\n",
       "\n",
       "/* \"?\"-specific style due to the `<a>` HTML tag */\n",
       "\n",
       "#sk-container-id-6 a.estimator_doc_link {\n",
       "  float: right;\n",
       "  font-size: 1rem;\n",
       "  line-height: 1em;\n",
       "  font-family: monospace;\n",
       "  background-color: var(--sklearn-color-background);\n",
       "  border-radius: 1rem;\n",
       "  height: 1rem;\n",
       "  width: 1rem;\n",
       "  text-decoration: none;\n",
       "  /* unfitted */\n",
       "  color: var(--sklearn-color-unfitted-level-1);\n",
       "  border: var(--sklearn-color-unfitted-level-1) 1pt solid;\n",
       "}\n",
       "\n",
       "#sk-container-id-6 a.estimator_doc_link.fitted {\n",
       "  /* fitted */\n",
       "  border: var(--sklearn-color-fitted-level-1) 1pt solid;\n",
       "  color: var(--sklearn-color-fitted-level-1);\n",
       "}\n",
       "\n",
       "/* On hover */\n",
       "#sk-container-id-6 a.estimator_doc_link:hover {\n",
       "  /* unfitted */\n",
       "  background-color: var(--sklearn-color-unfitted-level-3);\n",
       "  color: var(--sklearn-color-background);\n",
       "  text-decoration: none;\n",
       "}\n",
       "\n",
       "#sk-container-id-6 a.estimator_doc_link.fitted:hover {\n",
       "  /* fitted */\n",
       "  background-color: var(--sklearn-color-fitted-level-3);\n",
       "}\n",
       "</style><div id=\"sk-container-id-6\" class=\"sk-top-container\"><div class=\"sk-text-repr-fallback\"><pre>GridSearchCV(cv=5,\n",
       "             estimator=Pipeline(steps=[(&#x27;preprocessor&#x27;,\n",
       "                                        ColumnTransformer(transformers=[(&#x27;num&#x27;,\n",
       "                                                                         StandardScaler(),\n",
       "                                                                         [&#x27;temperature_2m&#x27;,\n",
       "                                                                          &#x27;precipitation&#x27;,\n",
       "                                                                          &#x27;rain&#x27;,\n",
       "                                                                          &#x27;snowfall&#x27;,\n",
       "                                                                          &#x27;wind_gusts_10m&#x27;,\n",
       "                                                                          &#x27;wind_speed_10m&#x27;,\n",
       "                                                                          &#x27;visibility&#x27;])])),\n",
       "                                       (&#x27;model&#x27;,\n",
       "                                        LogisticRegression(max_iter=1000,\n",
       "                                                           penalty=&#x27;elasticnet&#x27;,\n",
       "                                                           solver=&#x27;saga&#x27;))]),\n",
       "             param_grid={&#x27;model__C&#x27;: [0.01, 0.1, 1, 10, 100],\n",
       "                         &#x27;model__l1_ratio&#x27;: [0.1, 0.5, 0.7, 0.9]},\n",
       "             scoring=&#x27;accuracy&#x27;)</pre><b>In a Jupyter environment, please rerun this cell to show the HTML representation or trust the notebook. <br />On GitHub, the HTML representation is unable to render, please try loading this page with nbviewer.org.</b></div><div class=\"sk-container\" hidden><div class=\"sk-item sk-dashed-wrapped\"><div class=\"sk-label-container\"><div class=\"sk-label fitted sk-toggleable\"><input class=\"sk-toggleable__control sk-hidden--visually\" id=\"sk-estimator-id-31\" type=\"checkbox\" ><label for=\"sk-estimator-id-31\" class=\"sk-toggleable__label fitted sk-toggleable__label-arrow fitted\">&nbsp;&nbsp;GridSearchCV<a class=\"sk-estimator-doc-link fitted\" rel=\"noreferrer\" target=\"_blank\" href=\"https://scikit-learn.org/1.5/modules/generated/sklearn.model_selection.GridSearchCV.html\">?<span>Documentation for GridSearchCV</span></a><span class=\"sk-estimator-doc-link fitted\">i<span>Fitted</span></span></label><div class=\"sk-toggleable__content fitted\"><pre>GridSearchCV(cv=5,\n",
       "             estimator=Pipeline(steps=[(&#x27;preprocessor&#x27;,\n",
       "                                        ColumnTransformer(transformers=[(&#x27;num&#x27;,\n",
       "                                                                         StandardScaler(),\n",
       "                                                                         [&#x27;temperature_2m&#x27;,\n",
       "                                                                          &#x27;precipitation&#x27;,\n",
       "                                                                          &#x27;rain&#x27;,\n",
       "                                                                          &#x27;snowfall&#x27;,\n",
       "                                                                          &#x27;wind_gusts_10m&#x27;,\n",
       "                                                                          &#x27;wind_speed_10m&#x27;,\n",
       "                                                                          &#x27;visibility&#x27;])])),\n",
       "                                       (&#x27;model&#x27;,\n",
       "                                        LogisticRegression(max_iter=1000,\n",
       "                                                           penalty=&#x27;elasticnet&#x27;,\n",
       "                                                           solver=&#x27;saga&#x27;))]),\n",
       "             param_grid={&#x27;model__C&#x27;: [0.01, 0.1, 1, 10, 100],\n",
       "                         &#x27;model__l1_ratio&#x27;: [0.1, 0.5, 0.7, 0.9]},\n",
       "             scoring=&#x27;accuracy&#x27;)</pre></div> </div></div><div class=\"sk-parallel\"><div class=\"sk-parallel-item\"><div class=\"sk-item\"><div class=\"sk-label-container\"><div class=\"sk-label fitted sk-toggleable\"><input class=\"sk-toggleable__control sk-hidden--visually\" id=\"sk-estimator-id-32\" type=\"checkbox\" ><label for=\"sk-estimator-id-32\" class=\"sk-toggleable__label fitted sk-toggleable__label-arrow fitted\">best_estimator_: Pipeline</label><div class=\"sk-toggleable__content fitted\"><pre>Pipeline(steps=[(&#x27;preprocessor&#x27;,\n",
       "                 ColumnTransformer(transformers=[(&#x27;num&#x27;, StandardScaler(),\n",
       "                                                  [&#x27;temperature_2m&#x27;,\n",
       "                                                   &#x27;precipitation&#x27;, &#x27;rain&#x27;,\n",
       "                                                   &#x27;snowfall&#x27;, &#x27;wind_gusts_10m&#x27;,\n",
       "                                                   &#x27;wind_speed_10m&#x27;,\n",
       "                                                   &#x27;visibility&#x27;])])),\n",
       "                (&#x27;model&#x27;,\n",
       "                 LogisticRegression(C=0.01, l1_ratio=0.1, max_iter=1000,\n",
       "                                    penalty=&#x27;elasticnet&#x27;, solver=&#x27;saga&#x27;))])</pre></div> </div></div><div class=\"sk-serial\"><div class=\"sk-item\"><div class=\"sk-serial\"><div class=\"sk-item sk-dashed-wrapped\"><div class=\"sk-label-container\"><div class=\"sk-label fitted sk-toggleable\"><input class=\"sk-toggleable__control sk-hidden--visually\" id=\"sk-estimator-id-33\" type=\"checkbox\" ><label for=\"sk-estimator-id-33\" class=\"sk-toggleable__label fitted sk-toggleable__label-arrow fitted\">&nbsp;preprocessor: ColumnTransformer<a class=\"sk-estimator-doc-link fitted\" rel=\"noreferrer\" target=\"_blank\" href=\"https://scikit-learn.org/1.5/modules/generated/sklearn.compose.ColumnTransformer.html\">?<span>Documentation for preprocessor: ColumnTransformer</span></a></label><div class=\"sk-toggleable__content fitted\"><pre>ColumnTransformer(transformers=[(&#x27;num&#x27;, StandardScaler(),\n",
       "                                 [&#x27;temperature_2m&#x27;, &#x27;precipitation&#x27;, &#x27;rain&#x27;,\n",
       "                                  &#x27;snowfall&#x27;, &#x27;wind_gusts_10m&#x27;,\n",
       "                                  &#x27;wind_speed_10m&#x27;, &#x27;visibility&#x27;])])</pre></div> </div></div><div class=\"sk-parallel\"><div class=\"sk-parallel-item\"><div class=\"sk-item\"><div class=\"sk-label-container\"><div class=\"sk-label fitted sk-toggleable\"><input class=\"sk-toggleable__control sk-hidden--visually\" id=\"sk-estimator-id-34\" type=\"checkbox\" ><label for=\"sk-estimator-id-34\" class=\"sk-toggleable__label fitted sk-toggleable__label-arrow fitted\">num</label><div class=\"sk-toggleable__content fitted\"><pre>[&#x27;temperature_2m&#x27;, &#x27;precipitation&#x27;, &#x27;rain&#x27;, &#x27;snowfall&#x27;, &#x27;wind_gusts_10m&#x27;, &#x27;wind_speed_10m&#x27;, &#x27;visibility&#x27;]</pre></div> </div></div><div class=\"sk-serial\"><div class=\"sk-item\"><div class=\"sk-estimator fitted sk-toggleable\"><input class=\"sk-toggleable__control sk-hidden--visually\" id=\"sk-estimator-id-35\" type=\"checkbox\" ><label for=\"sk-estimator-id-35\" class=\"sk-toggleable__label fitted sk-toggleable__label-arrow fitted\">&nbsp;StandardScaler<a class=\"sk-estimator-doc-link fitted\" rel=\"noreferrer\" target=\"_blank\" href=\"https://scikit-learn.org/1.5/modules/generated/sklearn.preprocessing.StandardScaler.html\">?<span>Documentation for StandardScaler</span></a></label><div class=\"sk-toggleable__content fitted\"><pre>StandardScaler()</pre></div> </div></div></div></div></div></div></div><div class=\"sk-item\"><div class=\"sk-estimator fitted sk-toggleable\"><input class=\"sk-toggleable__control sk-hidden--visually\" id=\"sk-estimator-id-36\" type=\"checkbox\" ><label for=\"sk-estimator-id-36\" class=\"sk-toggleable__label fitted sk-toggleable__label-arrow fitted\">&nbsp;LogisticRegression<a class=\"sk-estimator-doc-link fitted\" rel=\"noreferrer\" target=\"_blank\" href=\"https://scikit-learn.org/1.5/modules/generated/sklearn.linear_model.LogisticRegression.html\">?<span>Documentation for LogisticRegression</span></a></label><div class=\"sk-toggleable__content fitted\"><pre>LogisticRegression(C=0.01, l1_ratio=0.1, max_iter=1000, penalty=&#x27;elasticnet&#x27;,\n",
       "                   solver=&#x27;saga&#x27;)</pre></div> </div></div></div></div></div></div></div></div></div></div></div>"
      ],
      "text/plain": [
       "GridSearchCV(cv=5,\n",
       "             estimator=Pipeline(steps=[('preprocessor',\n",
       "                                        ColumnTransformer(transformers=[('num',\n",
       "                                                                         StandardScaler(),\n",
       "                                                                         ['temperature_2m',\n",
       "                                                                          'precipitation',\n",
       "                                                                          'rain',\n",
       "                                                                          'snowfall',\n",
       "                                                                          'wind_gusts_10m',\n",
       "                                                                          'wind_speed_10m',\n",
       "                                                                          'visibility'])])),\n",
       "                                       ('model',\n",
       "                                        LogisticRegression(max_iter=1000,\n",
       "                                                           penalty='elasticnet',\n",
       "                                                           solver='saga'))]),\n",
       "             param_grid={'model__C': [0.01, 0.1, 1, 10, 100],\n",
       "                         'model__l1_ratio': [0.1, 0.5, 0.7, 0.9]},\n",
       "             scoring='accuracy')"
      ]
     },
     "execution_count": 541,
     "metadata": {},
     "output_type": "execute_result"
    }
   ],
   "source": [
    "grid_search = GridSearchCV(pipeline, param_grid, cv=5, scoring='accuracy')\n",
    "grid_search.fit(X_train, Y_train)"
   ]
  },
  {
   "cell_type": "code",
   "execution_count": 542,
   "id": "00ff9ef1-abf7-4439-b1b7-af1dbf3354a6",
   "metadata": {},
   "outputs": [
    {
     "name": "stdout",
     "output_type": "stream",
     "text": [
      "{'memory': None, 'steps': [('preprocessor', ColumnTransformer(transformers=[('num', StandardScaler(),\n",
      "                                 ['temperature_2m', 'precipitation', 'rain',\n",
      "                                  'snowfall', 'wind_gusts_10m',\n",
      "                                  'wind_speed_10m', 'visibility'])])), ('model', LogisticRegression(C=0.01, l1_ratio=0.1, max_iter=1000, penalty='elasticnet',\n",
      "                   solver='saga'))], 'verbose': False, 'preprocessor': ColumnTransformer(transformers=[('num', StandardScaler(),\n",
      "                                 ['temperature_2m', 'precipitation', 'rain',\n",
      "                                  'snowfall', 'wind_gusts_10m',\n",
      "                                  'wind_speed_10m', 'visibility'])]), 'model': LogisticRegression(C=0.01, l1_ratio=0.1, max_iter=1000, penalty='elasticnet',\n",
      "                   solver='saga'), 'preprocessor__force_int_remainder_cols': True, 'preprocessor__n_jobs': None, 'preprocessor__remainder': 'drop', 'preprocessor__sparse_threshold': 0.3, 'preprocessor__transformer_weights': None, 'preprocessor__transformers': [('num', StandardScaler(), ['temperature_2m', 'precipitation', 'rain', 'snowfall', 'wind_gusts_10m', 'wind_speed_10m', 'visibility'])], 'preprocessor__verbose': False, 'preprocessor__verbose_feature_names_out': True, 'preprocessor__num': StandardScaler(), 'preprocessor__num__copy': True, 'preprocessor__num__with_mean': True, 'preprocessor__num__with_std': True, 'model__C': 0.01, 'model__class_weight': None, 'model__dual': False, 'model__fit_intercept': True, 'model__intercept_scaling': 1, 'model__l1_ratio': 0.1, 'model__max_iter': 1000, 'model__multi_class': 'deprecated', 'model__n_jobs': None, 'model__penalty': 'elasticnet', 'model__random_state': None, 'model__solver': 'saga', 'model__tol': 0.0001, 'model__verbose': 0, 'model__warm_start': False}\n"
     ]
    }
   ],
   "source": [
    "best_model = grid_search.best_estimator_\n",
    "print(best_model.get_params())"
   ]
  },
  {
   "cell_type": "code",
   "execution_count": 543,
   "id": "ae64c275-70e8-4bae-b472-d7010ff6401d",
   "metadata": {},
   "outputs": [],
   "source": [
    "rer_test_X = rer_test.drop('departure_status', axis=1)  # Features (exclude target)\n",
    "rer_test_Y = rer_test['departure_status'] \n",
    "rer_test_Y = rer_test_Y.apply(lambda x: 1 if x in ['delayed', 'cancelled'] else 0)\n"
   ]
  },
  {
   "cell_type": "code",
   "execution_count": 544,
   "id": "ef730d80-4a2a-4096-bd27-e855176e602a",
   "metadata": {},
   "outputs": [],
   "source": [
    "y_pred_train = best_model.predict(X_train)    #the test set of the learn data\n",
    "y_pred_test = best_model.predict(rer_test_X)"
   ]
  },
  {
   "cell_type": "code",
   "execution_count": 545,
   "id": "086ab240-e5f9-4d50-ad88-6d4faea704e6",
   "metadata": {},
   "outputs": [
    {
     "name": "stdout",
     "output_type": "stream",
     "text": [
      "Training Accuracy: 0.9653\n",
      "Test Accuracy: 0.8887\n"
     ]
    }
   ],
   "source": [
    "print(f\"Training Accuracy: {accuracy_score(Y_train, y_pred_train):.4f}\")\n",
    "print(f\"Test Accuracy: {accuracy_score(rer_test_Y, y_pred_test):.4f}\")"
   ]
  },
  {
   "cell_type": "code",
   "execution_count": 546,
   "id": "37cfa388-ae3d-407b-9163-a3593e9fdbac",
   "metadata": {},
   "outputs": [],
   "source": [
    "train_pred_vs_true = pd.DataFrame({'True': Y_train, \n",
    "                                   'Predicted': y_pred_train})\n",
    "\n",
    "test_pred_vs_true = pd.DataFrame({'True': rer_test_Y, \n",
    "                                  'Predicted': y_pred_test})"
   ]
  },
  {
   "cell_type": "code",
   "execution_count": 547,
   "id": "57e77e29-c9da-4764-8bdd-c3105aa15ece",
   "metadata": {},
   "outputs": [
    {
     "name": "stdout",
     "output_type": "stream",
     "text": [
      "[[1006    0]\n",
      " [ 126    0]]\n"
     ]
    }
   ],
   "source": [
    "conf_matrix = confusion_matrix(rer_test_Y, y_pred_test)\n",
    "print(conf_matrix)"
   ]
  },
  {
   "cell_type": "markdown",
   "id": "7d61f88e-33a2-4faf-bf0c-2f3b61a017ae",
   "metadata": {},
   "source": [
    "# random forest"
   ]
  },
  {
   "cell_type": "code",
   "execution_count": 549,
   "id": "3d4d33d4-2ffc-4d27-a245-dfcc6e4b5623",
   "metadata": {},
   "outputs": [],
   "source": [
    "rer_learn_X = rer_learn.drop('departure_status', axis=1)  # Features (exclude target)\n",
    "rer_learn_Y = rer_learn['departure_status']  # Target variable\n",
    "rer_learn_Y  = rer_learn_Y.apply(lambda x: 1 if x in ['delayed', 'cancelled'] else 0)\n",
    "\n",
    "X_train, X_test, Y_train, Y_test = train_test_split(rer_learn_X, \n",
    "                                                    rer_learn_Y, \n",
    "                                                    test_size=0.2, \n",
    "                                                    random_state=42,\n",
    "                                                    stratify=rer_learn_Y)"
   ]
  },
  {
   "cell_type": "code",
   "execution_count": 550,
   "id": "a97214f7-f811-4f79-b799-97af1bb20635",
   "metadata": {},
   "outputs": [],
   "source": [
    "rf = RandomForestClassifier(random_state=42)\n",
    "\n",
    "rf_grid = {\n",
    "    'n_estimators': [50, 100, 150],\n",
    "    'max_depth': [5, 10, 15, None],\n",
    "    'min_samples_split': [2, 5, 10],\n",
    "    'min_samples_leaf': [1, 2, 4]\n",
    "}\n",
    "\n",
    "cv_folds = StratifiedKFold(n_splits=5, shuffle=True, random_state=42)\n",
    "\n",
    "rf_cv = GridSearchCV(rf, rf_grid, cv=cv_folds, n_jobs=-1, scoring='f1')"
   ]
  },
  {
   "cell_type": "code",
   "execution_count": 551,
   "id": "50507afd-28e1-4714-a7c4-2d459e86ef4c",
   "metadata": {},
   "outputs": [
    {
     "name": "stdout",
     "output_type": "stream",
     "text": [
      "Best hyperparameters: {'max_depth': None, 'min_samples_leaf': 1, 'min_samples_split': 2, 'n_estimators': 50}\n"
     ]
    }
   ],
   "source": [
    "rf_cv.fit(X_train, Y_train)\n",
    "best_model = rf_cv.best_estimator_\n",
    "\n",
    "print(f\"Best hyperparameters: {rf_cv.best_params_}\")"
   ]
  },
  {
   "cell_type": "code",
   "execution_count": 552,
   "id": "5213fee4-8ec2-4c97-a225-dac71e46bb2c",
   "metadata": {},
   "outputs": [],
   "source": [
    "rer_test_X = rer_test.drop('departure_status', axis=1)  \n",
    "rer_test_Y = rer_test['departure_status']  \n",
    "rer_test_Y  = rer_test_Y.apply(lambda x: 1 if x in ['delayed', 'cancelled'] else 0)\n"
   ]
  },
  {
   "cell_type": "code",
   "execution_count": 562,
   "id": "073278b1-4894-489f-9cca-1eb4a9dfa5c3",
   "metadata": {},
   "outputs": [
    {
     "name": "stdout",
     "output_type": "stream",
     "text": [
      "Training Accuracy: 0.9666\n",
      "Test Accuracy: 0.8913\n"
     ]
    }
   ],
   "source": [
    "y_pred_train = best_model.predict(X_test)\n",
    "y_pred_test = best_model.predict(rer_test_X)\n",
    "\n",
    "print(f\"Training Accuracy: {accuracy_score(Y_test, y_pred_train):.4f}\")\n",
    "print(f\"Test Accuracy: {accuracy_score(rer_test_Y, y_pred_test):.4f}\")\n",
    "\n",
    "train_pred_vs_true = pd.DataFrame({'True': Y_test, \n",
    "                                   'Predicted': y_pred_train})\n",
    "\n",
    "test_pred_vs_true = pd.DataFrame({'True': rer_test_Y, \n",
    "                                  'Predicted': y_pred_test})"
   ]
  },
  {
   "cell_type": "code",
   "execution_count": 563,
   "id": "80f1d3e6-a114-49d0-b4ff-65efa0ce7de8",
   "metadata": {},
   "outputs": [
    {
     "name": "stdout",
     "output_type": "stream",
     "text": [
      "[[1004    2]\n",
      " [ 121    5]]\n"
     ]
    }
   ],
   "source": [
    "conf_matrix = confusion_matrix(rer_test_Y, y_pred_test)\n",
    "print(conf_matrix)\n"
   ]
  },
  {
   "cell_type": "raw",
   "id": "4ebffb8e-8545-489e-af3f-5f60a9a9fb8a",
   "metadata": {},
   "source": [
    "should we control the direction too? consider one stop and one direction?? group final direction to make binary?"
   ]
  },
  {
   "cell_type": "code",
   "execution_count": 564,
   "id": "5cd83056-07b2-496f-a21a-61ecb35e2993",
   "metadata": {},
   "outputs": [
    {
     "data": {
      "text/plain": [
       "departure_status\n",
       "onTime       1006\n",
       "cancelled     106\n",
       "delayed        20\n",
       "Name: count, dtype: Int64"
      ]
     },
     "execution_count": 564,
     "metadata": {},
     "output_type": "execute_result"
    }
   ],
   "source": [
    "rer_test['departure_status'].value_counts()"
   ]
  },
  {
   "cell_type": "markdown",
   "id": "1e7a20d3-7c1f-4e2d-8bb8-cb5c54295ea1",
   "metadata": {},
   "source": [
    "# Resampling"
   ]
  },
  {
   "cell_type": "code",
   "execution_count": 566,
   "id": "bfe12644-dd6d-42cc-bb86-4f2a7eb041ff",
   "metadata": {},
   "outputs": [],
   "source": [
    "rer_learn_X = rer_learn.drop('departure_status', axis=1)  \n",
    "rer_learn_Y = rer_learn['departure_status']  \n",
    "rer_learn_Y = rer_learn_Y.apply(lambda x: 1 if x in ['delayed', 'cancelled'] else 0)\n"
   ]
  },
  {
   "cell_type": "code",
   "execution_count": 567,
   "id": "4da0771a-eb7f-48b6-8b3f-d5b329d06adc",
   "metadata": {},
   "outputs": [],
   "source": [
    "X_train, X_test, Y_train, Y_test = train_test_split(rer_learn_X, \n",
    "                                                    rer_learn_Y, \n",
    "                                                    test_size=0.2, \n",
    "                                                    random_state=42, \n",
    "                                                    stratify=rer_learn_Y)"
   ]
  },
  {
   "cell_type": "code",
   "execution_count": 568,
   "id": "23d49beb-6522-4292-96ee-36d243f35454",
   "metadata": {},
   "outputs": [
    {
     "name": "stdout",
     "output_type": "stream",
     "text": [
      "Original dataset shape: (7540, 29), (7540,)\n",
      "Resampled dataset shape: (14556, 29), (14556,)\n"
     ]
    }
   ],
   "source": [
    "#Apply SMOTE to the training data\n",
    "smote = SMOTE(sampling_strategy='auto', random_state=42)  # 'auto' resamples to match the majority class size\n",
    "X_train_resampled, Y_train_resampled = smote.fit_resample(X_train, Y_train)\n",
    "\n",
    "#X_train_resampled and Y_train_resampled are balanced with synthetic data\n",
    "print(f\"Original dataset shape: {X_train.shape}, {Y_train.shape}\")\n",
    "print(f\"Resampled dataset shape: {X_train_resampled.shape}, {Y_train_resampled.shape}\")"
   ]
  },
  {
   "cell_type": "code",
   "execution_count": 569,
   "id": "8543b9bb-fec1-4cd5-b202-0948183c536c",
   "metadata": {},
   "outputs": [],
   "source": [
    "rf = RandomForestClassifier(random_state=42)\n",
    "\n",
    "rf_grid = {\n",
    "    'n_estimators': [50, 100, 150],\n",
    "    'max_depth': [5, 10, 15, None],\n",
    "    'min_samples_split': [2, 5, 10],\n",
    "    'min_samples_leaf': [1, 2, 4]\n",
    "}\n",
    "\n",
    "cv_folds = StratifiedKFold(n_splits=5, shuffle=True, random_state=42)\n",
    "\n",
    "rf_cv = GridSearchCV(rf, rf_grid, cv=cv_folds, n_jobs=-1, scoring='f1')"
   ]
  },
  {
   "cell_type": "code",
   "execution_count": 570,
   "id": "7f36eb30-8dba-40bd-ab4a-af3ea33e171f",
   "metadata": {},
   "outputs": [
    {
     "name": "stdout",
     "output_type": "stream",
     "text": [
      "{'bootstrap': True, 'ccp_alpha': 0.0, 'class_weight': None, 'criterion': 'gini', 'max_depth': None, 'max_features': 'sqrt', 'max_leaf_nodes': None, 'max_samples': None, 'min_impurity_decrease': 0.0, 'min_samples_leaf': 1, 'min_samples_split': 10, 'min_weight_fraction_leaf': 0.0, 'monotonic_cst': None, 'n_estimators': 100, 'n_jobs': None, 'oob_score': False, 'random_state': 42, 'verbose': 0, 'warm_start': False}\n"
     ]
    }
   ],
   "source": [
    "rf_cv.fit(X_train_resampled, Y_train_resampled)\n",
    "best_rf = rf_cv.best_estimator_\n",
    "\n",
    "print(best_rf.get_params())"
   ]
  },
  {
   "cell_type": "code",
   "execution_count": 571,
   "id": "e90ff77f-0134-427e-9da7-e85914000f4e",
   "metadata": {},
   "outputs": [],
   "source": [
    "rer_test_X = rer_test.drop('departure_status', axis=1)  # Features (exclude target)\n",
    "rer_test_Y = rer_test['departure_status']  # Target variable\n",
    "rer_test_Y  = rer_test_Y.apply(lambda x: 1 if x in ['delayed', 'cancelled'] else 0)"
   ]
  },
  {
   "cell_type": "code",
   "execution_count": 588,
   "id": "829e26d1-5c23-4282-90d0-df468429e191",
   "metadata": {},
   "outputs": [
    {
     "name": "stdout",
     "output_type": "stream",
     "text": [
      "Training Accuracy: 0.9687\n",
      "Test Accuracy: 0.8922\n"
     ]
    }
   ],
   "source": [
    "y_pred_train = best_rf.predict(X_test)\n",
    "y_pred_test = best_rf.predict(rer_test_X)\n",
    "\n",
    "print(f\"Training Accuracy: {accuracy_score(Y_test, y_pred_train):.4f}\")\n",
    "print(f\"Test Accuracy: {accuracy_score(rer_test_Y, y_pred_test):.4f}\")\n",
    "\n",
    "train_pred_vs_true = pd.DataFrame({'True': Y_test, \n",
    "                                   'Predicted': y_pred_train})\n",
    "\n",
    "test_pred_vs_true = pd.DataFrame({'True': rer_test_Y, \n",
    "                                  'Predicted': y_pred_test})"
   ]
  },
  {
   "cell_type": "code",
   "execution_count": 590,
   "id": "836cd89a-5e1a-449d-ada6-53fd7cc7080e",
   "metadata": {},
   "outputs": [
    {
     "name": "stdout",
     "output_type": "stream",
     "text": [
      "[[1004    2]\n",
      " [ 120    6]]\n"
     ]
    }
   ],
   "source": [
    "conf_matrix = confusion_matrix(rer_test_Y, y_pred_test)\n",
    "print(conf_matrix)"
   ]
  },
  {
   "cell_type": "code",
   "execution_count": null,
   "id": "b90f3cba-3428-410a-9b15-b024d7061b33",
   "metadata": {},
   "outputs": [],
   "source": []
  }
 ],
 "metadata": {
  "kernelspec": {
   "display_name": "Python 3 (ipykernel)",
   "language": "python",
   "name": "python3"
  },
  "language_info": {
   "codemirror_mode": {
    "name": "ipython",
    "version": 3
   },
   "file_extension": ".py",
   "mimetype": "text/x-python",
   "name": "python",
   "nbconvert_exporter": "python",
   "pygments_lexer": "ipython3",
   "version": "3.11.7"
  }
 },
 "nbformat": 4,
 "nbformat_minor": 5
}
