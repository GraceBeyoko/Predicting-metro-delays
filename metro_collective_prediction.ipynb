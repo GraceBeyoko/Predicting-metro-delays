{
 "cells": [
  {
   "cell_type": "code",
   "execution_count": 91,
   "id": "fe66437f-e39f-4617-bc3d-f91d49b204e2",
   "metadata": {},
   "outputs": [],
   "source": [
    "#pip install mca"
   ]
  },
  {
   "cell_type": "code",
   "execution_count": 22,
   "id": "f4786a17-6f1c-421e-b90f-d93ce088263b",
   "metadata": {},
   "outputs": [],
   "source": [
    "import pandas as pd\n",
    "import seaborn as sns\n",
    "import numpy as np\n",
    "import matplotlib.pyplot as plt\n",
    "import mca\n",
    "from sklearn.model_selection import train_test_split, ShuffleSplit, KFold, cross_val_score, GridSearchCV\n",
    "from sklearn.tree import DecisionTreeRegressor\n",
    "from sklearn.ensemble import RandomForestRegressor\n",
    "from sklearn.metrics import root_mean_squared_error, confusion_matrix\n",
    "from sklearn.decomposition import PCA\n",
    "from sklearn.preprocessing import StandardScaler"
   ]
  },
  {
   "cell_type": "code",
   "execution_count": 125,
   "id": "b82074a5-aa74-497f-9fcb-a251cb9335d1",
   "metadata": {},
   "outputs": [],
   "source": [
    "CDG = pd.read_csv(\"./Stations/CDG.csv\")\n",
    "SL = pd.read_csv(\"./Stations/SL.csv\")\n",
    "SGP = pd.read_csv(\"./Stations/SGP.csv\")\n",
    "BL = pd.read_csv(\"./Stations/BL.csv\")\n",
    "\n",
    "metro = pd.concat([CDG, SL, SGP, BL], ignore_index=True)"
   ]
  },
  {
   "cell_type": "markdown",
   "id": "375c2acb",
   "metadata": {},
   "source": [
    "# Cleaning again"
   ]
  },
  {
   "cell_type": "code",
   "execution_count": 128,
   "id": "92a35495",
   "metadata": {},
   "outputs": [],
   "source": [
    "metro['real_arrival'] = pd.to_datetime(metro['real_arrival'], format='%Y-%m-%d %H:%M:%S')\n",
    "metro['real_departure'] = pd.to_datetime(metro['real_departure'], format='%Y-%m-%d %H:%M:%S')\n",
    "\n",
    "metro = metro.sort_values(by='stop_name', ascending=False)\n",
    "metro['stop_name'] = pd.factorize(metro[\"stop_name\"])[0]\n",
    "metro['destination_name'] = pd.factorize(metro[\"destination_name\"])[0]\n",
    "\n",
    "metro = metro.sort_values(by='real_arrival', ascending=True)\n",
    "\n",
    "metro[\"departure_status\"] = metro[\"departure_status\"].astype(\"string\")\n",
    "metro[\"is_day\"] = metro[\"is_day\"].astype(int)"
   ]
  },
  {
   "cell_type": "code",
   "execution_count": 130,
   "id": "03137ccc",
   "metadata": {},
   "outputs": [],
   "source": [
    "metro['pourc_validations'] = metro['pourc_validations'].fillna(0)"
   ]
  },
  {
   "cell_type": "code",
   "execution_count": 132,
   "id": "741af1ff",
   "metadata": {},
   "outputs": [],
   "source": [
    "metro = metro.drop([\"real_departure\", \"ArRTown\", \"Date\", \"day_type\", \"is_bank_holiday\", \"is_weekend\"], axis=1)"
   ]
  },
  {
   "cell_type": "code",
   "execution_count": 134,
   "id": "6fb05af5-5c1d-4919-b6d1-cb4f31c07259",
   "metadata": {},
   "outputs": [],
   "source": [
    "metro_learn = metro\n",
    "metro_test = metro\n",
    "\n",
    "start_date = pd.to_datetime('2024-11-02 00:00:00')\n",
    "end_date = pd.to_datetime('2025-01-12 23:59:59')\n",
    "\n",
    "start_date2 = pd.to_datetime('2025-01-13 00:00:00')\n",
    "end_date2 = pd.to_datetime('2025-01-19 23:59:59')\n",
    "\n",
    "metro_learn = metro_learn[(metro_learn['real_arrival'] >= start_date) & (metro_learn['real_arrival'] <= end_date)]\n",
    "metro_test = metro_test[(metro_test['real_arrival'] >= start_date2) & (metro_test['real_arrival'] <= end_date2)]\n"
   ]
  },
  {
   "cell_type": "markdown",
   "id": "1f7d9cae-5612-4246-8692-498c0fbfde27",
   "metadata": {
    "jp-MarkdownHeadingCollapsed": true
   },
   "source": [
    "# PCA"
   ]
  },
  {
   "cell_type": "code",
   "execution_count": 99,
   "id": "62c0abd0-83a2-4631-9efa-9f2d7197d996",
   "metadata": {},
   "outputs": [],
   "source": [
    "# Select numerical variables\n",
    "numerical_vars = metro_learn.select_dtypes(include=['float64'])\n",
    "\n",
    "# Standardize the numerical variables\n",
    "scaler = StandardScaler()\n",
    "numerical_vars_scaled = scaler.fit_transform(numerical_vars)\n",
    "\n",
    "# Perform PCA\n",
    "pca = PCA()\n",
    "pca_results = pca.fit_transform(numerical_vars_scaled)"
   ]
  },
  {
   "cell_type": "code",
   "execution_count": 100,
   "id": "031213ec-7dc1-4861-9791-7a9f334a7019",
   "metadata": {},
   "outputs": [
    {
     "name": "stdout",
     "output_type": "stream",
     "text": [
      "Explained Variance Ratio: [0.21908206 0.20253167 0.13646011 0.10119626 0.09166042 0.07705596\n",
      " 0.05998427 0.04629283 0.0386112  0.01986902 0.00362224 0.0027163\n",
      " 0.00091768]\n",
      "PCA DataFrame Head:\n",
      "         PC1       PC2       PC3       PC4       PC5       PC6      PC7  \\\n",
      "0 -3.244942  0.710312  1.118166  0.622022  1.313204  0.404264  5.24607   \n",
      "1 -3.244942  0.710312  1.118166  0.622022  1.313204  0.404264  5.24607   \n",
      "2 -3.244942  0.710312  1.118166  0.622022  1.313204  0.404264  5.24607   \n",
      "3 -3.244942  0.710312  1.118166  0.622022  1.313204  0.404264  5.24607   \n",
      "4 -3.244942  0.710312  1.118166  0.622022  1.313204  0.404264  5.24607   \n",
      "\n",
      "        PC8       PC9      PC10      PC11      PC12      PC13  \n",
      "0  0.242501  0.137819 -0.312697  0.104065 -0.023492  0.004076  \n",
      "1  0.242501  0.137819 -0.312697  0.104065 -0.023492  0.004076  \n",
      "2  0.242501  0.137819 -0.312697  0.104065 -0.023492  0.004076  \n",
      "3  0.242501  0.137819 -0.312697  0.104065 -0.023492  0.004076  \n",
      "4  0.242501  0.137819 -0.312697  0.104065 -0.023492  0.004076  \n"
     ]
    }
   ],
   "source": [
    "# Create a DataFrame for the PCA results\n",
    "pca_df = pd.DataFrame(\n",
    "    pca_results,\n",
    "    columns=[f'PC{i+1}' for i in range(pca_results.shape[1])]\n",
    ")\n",
    "\n",
    "# Explained variance ratio\n",
    "explained_variance = pca.explained_variance_ratio_\n",
    "\n",
    "# Output the PCA results and explained variance\n",
    "print(\"Explained Variance Ratio:\", explained_variance)\n",
    "print(\"PCA DataFrame Head:\\n\", pca_df.head())"
   ]
  },
  {
   "cell_type": "code",
   "execution_count": 101,
   "id": "d72dffbb",
   "metadata": {},
   "outputs": [
    {
     "data": {
      "image/png": "[encoded data removed]",
      "text/plain": [
       "<Figure size 640x480 with 1 Axes>"
      ]
     },
     "metadata": {},
     "output_type": "display_data"
    }
   ],
   "source": [
    "# -or\n",
    "# Assuming you already have your dataset loaded into 'APK' DataFrame and it's preprocessed\n",
    "\n",
    "# Select numerical columns\n",
    "numerical_vars = metro_learn.select_dtypes(include=['float64'])\n",
    "\n",
    "# Standardize the data\n",
    "scaler = StandardScaler()\n",
    "numerical_vars_scaled = scaler.fit_transform(numerical_vars)\n",
    "\n",
    "# Perform PCA\n",
    "pca = PCA()\n",
    "pca.fit(numerical_vars_scaled)\n",
    "\n",
    "# Eigenvalues (explained variance for each principal component)\n",
    "eigval = pca.explained_variance_\n",
    "\n",
    "# Number of components (k)\n",
    "k = len(eigval)\n",
    "\n",
    "# Scree plot\n",
    "plt.plot(np.arange(1, k + 1), eigval, marker='o')\n",
    "plt.title(\"Scree plot\")\n",
    "plt.ylabel(\"Eigen values\")\n",
    "plt.xlabel(\"Factor number\")\n",
    "plt.grid(True)\n",
    "plt.savefig('Screeplot.png', bbox_inches='tight', dpi=300)\n",
    "plt.show()\n"
   ]
  },
  {
   "cell_type": "code",
   "execution_count": 102,
   "id": "dbc4fe7e-8840-433d-b144-56882ef68e38",
   "metadata": {},
   "outputs": [
    {
     "data": {
      "image/png": "[encoded data removed]",
      "text/plain": [
       "<Figure size 640x480 with 1 Axes>"
      ]
     },
     "metadata": {},
     "output_type": "display_data"
    }
   ],
   "source": [
    "plt.plot(np.arange(1,k+1),np.cumsum(pca.explained_variance_ratio_)) \n",
    "plt.title(\"Explained variance vs. # of factors\") \n",
    "plt.ylabel(\"Cumsum explained variance ratio\") \n",
    "plt.xlabel(\"Factor number\") \n",
    "plt.savefig('CumSumPlot.png', bbox_inches='tight', dpi=300)\n",
    "plt.show()"
   ]
  },
  {
   "cell_type": "code",
   "execution_count": 103,
   "id": "d7b2c105-1fda-4939-84c8-76d5ac14ec68",
   "metadata": {},
   "outputs": [],
   "source": [
    "## 5 factors picked for expainability"
   ]
  },
  {
   "cell_type": "code",
   "execution_count": 104,
   "id": "63af2871-144a-450f-b8e5-aa3b4fd46b36",
   "metadata": {},
   "outputs": [
    {
     "data": {
      "text/plain": [
       "array([2.84857033, 2.63337716, 1.77429506, 1.31578393, 1.19179613,\n",
       "       1.00190453, 0.77993341, 0.60191314, 0.50203439, 0.25834288,\n",
       "       0.04709748, 0.03531811, 0.01193191])"
      ]
     },
     "execution_count": 104,
     "metadata": {},
     "output_type": "execute_result"
    }
   ],
   "source": [
    "eigval"
   ]
  },
  {
   "cell_type": "code",
   "execution_count": 105,
   "id": "654ebc3d-25be-4c79-b5d1-3254b391b15f",
   "metadata": {},
   "outputs": [
    {
     "name": "stdout",
     "output_type": "stream",
     "text": [
      "[0.21908206 0.42161373 0.55807383 0.65927009 0.75093051 0.82798647\n",
      " 0.88797074 0.93426356 0.97287477 0.99274378 0.99636603 0.99908232\n",
      " 1.        ]\n"
     ]
    }
   ],
   "source": [
    "print(np.cumsum(pca.explained_variance_ratio_))"
   ]
  },
  {
   "cell_type": "markdown",
   "id": "74ac54ca-a0dc-4e62-ab65-3ff0b914a25b",
   "metadata": {
    "jp-MarkdownHeadingCollapsed": true
   },
   "source": [
    "# MCA - to do"
   ]
  },
  {
   "cell_type": "raw",
   "id": "89b298b9-cc25-465f-8c09-15e4437a4444",
   "metadata": {
    "vscode": {
     "languageId": "raw"
    }
   },
   "source": [
    "# Assuming APK_learn is your DataFrame, and categorical columns are encoded as integers\n",
    "# Select columns that are of integer type (numerical encoded categorical columns)\n",
    "categorical_columns = metro.select_dtypes(include=['int64']).columns\n"
   ]
  },
  {
   "cell_type": "raw",
   "id": "2ed34fcc",
   "metadata": {
    "vscode": {
     "languageId": "raw"
    }
   },
   "source": [
    "\n",
    "# Run MCA using the mca library, specifying n_components for multiple components\n",
    "mca_model = mca.MCA(metro[categorical_columns], ncols=7)  # Request 7 components\n",
    "\n",
    "# Access the MCA results (coordinates of the data points in the reduced space)\n",
    "mca_results = mca_model.fs_r()  # Call the function to get the result\n",
    "\n",
    "# Create a DataFrame with the MCA results\n",
    "mca_df = pd.DataFrame(mca_results, columns=[f'MCA{i+1}' for i in range(mca_results.shape[1])])\n",
    "\n",
    "# Display the first few rows of the MCA results\n",
    "print(mca_df.head())\n"
   ]
  },
  {
   "cell_type": "raw",
   "id": "7e42c08d-9007-4570-bac4-f48a176ec9c9",
   "metadata": {
    "vscode": {
     "languageId": "raw"
    }
   },
   "source": [
    "# Optionally, you can plot the first two components (MCA1 vs MCA2)\n",
    "plt.figure(figsize=(10, 6))\n",
    "plt.scatter(mca_df['MCA1'], mca_df['MCA2'], alpha=0.5)\n",
    "plt.title('MCA: First Two Components')\n",
    "plt.xlabel('MCA1')\n",
    "plt.ylabel('MCA2')\n",
    "plt.grid(True)\n",
    "plt.show()"
   ]
  },
  {
   "cell_type": "markdown",
   "id": "1eeb9748-2da7-4627-a080-b4bc04b7c17e",
   "metadata": {},
   "source": [
    "# Random Forest"
   ]
  },
  {
   "cell_type": "code",
   "execution_count": 136,
   "id": "ca476a63-ae6e-472e-986f-faa27a3090b0",
   "metadata": {},
   "outputs": [
    {
     "name": "stdout",
     "output_type": "stream",
     "text": [
      "There are 0 columns that have missing values.\n",
      "Empty DataFrame\n",
      "Columns: [Missing Values, % of Total Values]\n",
      "Index: []\n"
     ]
    }
   ],
   "source": [
    "def missing_values_table(df):\n",
    "        mis_val = df.isnull().sum()\n",
    "        mis_val_percent = 100 * df.isnull().sum() / len(df)  #% of missing values\n",
    "        mis_val_table = pd.concat([mis_val, mis_val_percent], axis=1)  #create result table\n",
    "        mis_val_table_ren_columns = mis_val_table.rename(\n",
    "        columns = {0 : 'Missing Values', 1 : '% of Total Values'})\n",
    "        mis_val_table_ren_columns = mis_val_table_ren_columns[\n",
    "            mis_val_table_ren_columns.iloc[:,1] != 0].sort_values(\n",
    "        '% of Total Values', ascending=False).round(1)\n",
    "        print (\"There are \" + str(mis_val_table_ren_columns.shape[0]) +\n",
    "              \" columns that have missing values.\")\n",
    "        return mis_val_table_ren_columns\n",
    "\n",
    "print(missing_values_table(metro)) "
   ]
  },
  {
   "cell_type": "markdown",
   "id": "5026fffa-e339-42f4-b0c2-9cdce01c4337",
   "metadata": {
    "jp-MarkdownHeadingCollapsed": true
   },
   "source": [
    "### include standardised float cols - unfinished"
   ]
  },
  {
   "cell_type": "raw",
   "id": "3a53a886-b6ec-43a7-8a38-c2ad6c456998",
   "metadata": {},
   "source": [
    "import pandas as pd\n",
    "from sklearn.model_selection import train_test_split, StratifiedKFold, GridSearchCV\n",
    "from sklearn.preprocessing import StandardScaler\n",
    "from sklearn.ensemble import RandomForestClassifier\n",
    "from sklearn.metrics import classification_report, accuracy_score\n",
    "from sklearn.impute import SimpleImputer\n",
    "from sklearn.compose import ColumnTransformer\n",
    "from sklearn.preprocessing import OneHotEncoder\n",
    "from sklearn.pipeline import Pipeline\n",
    "\n",
    "# Assuming APK_learn is your DataFrame and 'departure_status' is your target column\n",
    "\n",
    "# Step 1: Separate the features and target variable\n",
    "X = APK_learn.drop(columns=['departure_status'])  # All columns except the target\n",
    "y = APK_learn['departure_status']  # Target variable\n",
    "\n",
    "# Step 2: Identify numerical and categorical columns\n",
    "numerical_columns = X.select_dtypes(include=['float64']).columns\n",
    "categorical_columns = X.select_dtypes(include=['int64']).columns\n",
    "\n",
    "# Step 3: Preprocessing for numerical columns\n",
    "# Impute missing values and standardize\n",
    "numerical_pipeline = Pipeline([\n",
    "    ('imputer', SimpleImputer(strategy='mean')),  # Impute missing values with the mean\n",
    "    ('scaler', StandardScaler())  # Standardize numerical columns\n",
    "])\n",
    "\n",
    "# Step 4: Preprocessing for categorical columns\n",
    "# Impute missing values and one-hot encode categorical columns\n",
    "categorical_pipeline = Pipeline([\n",
    "    ('imputer', SimpleImputer(strategy='most_frequent')),  # Impute missing values with the most frequent value\n",
    "    ('onehot', OneHotEncoder(handle_unknown='ignore'))  # One-hot encode categorical columns\n",
    "])\n",
    "\n",
    "# Step 5: Combine both preprocessing pipelines using ColumnTransformer\n",
    "preprocessor = ColumnTransformer(\n",
    "    transformers=[\n",
    "        ('num', numerical_pipeline, numerical_columns),\n",
    "        ('cat', categorical_pipeline, categorical_columns)\n",
    "    ]\n",
    ")\n",
    "\n",
    "# Step 6: Split the data into training and testing sets\n",
    "X_train, X_test, y_train, y_test = train_test_split(X, y, test_size=0.3, random_state=42)\n",
    "\n",
    "# Step 7: Fit and transform the X_train data using the preprocessor\n",
    "X_train_transformed = preprocessor.fit_transform(X_train)\n",
    "\n",
    "# Step 8: Define the Random Forest Classifier and the parameter grid for GridSearchCV\n",
    "rf = RandomForestClassifier(random_state=42)\n",
    "\n",
    "# Define the parameter grid for GridSearchCV\n",
    "rf_grid = {\n",
    "    'n_estimators': [50, 100, 150],\n",
    "    'max_depth': [5, 10, 15, None],\n",
    "    'min_samples_split': [2, 5, 10],\n",
    "    'min_samples_leaf': [1, 2, 4]\n",
    "}\n",
    "\n",
    "# Step 9: Perform GridSearchCV with StratifiedKFold cross-validation\n",
    "cv_folds = StratifiedKFold(n_splits=10, shuffle=True, random_state=42)\n",
    "rf_cv = GridSearchCV(rf, rf_grid, cv=cv_folds, n_jobs=-1, scoring='accuracy')\n",
    "\n",
    "# Step 10: Fit the Random Forest model using GridSearchCV\n",
    "rf_cv.fit(X_train_transformed, y_train)\n",
    "\n",
    "# Step 11: Output the best hyperparameters found by GridSearchCV\n",
    "print(f\"Best hyperparameters: {rf_cv.best_params_}\")\n",
    "\n",
    "# Step 12: Transform the X_test data using the preprocessor and make predictions on the test set\n",
    "X_test_transformed = preprocessor.transform(X_test)\n",
    "y_pred = rf_cv.predict(X_test_transformed)\n",
    "\n",
    "# Step 13: Evaluate the model\n",
    "print(f\"Accuracy: {accuracy_score(y_test, y_pred):.4f}\")\n",
    "print(\"Classification Report:\")\n",
    "print(classification_report(y_test, y_pred))\n"
   ]
  },
  {
   "cell_type": "raw",
   "id": "1f40aece-e0fb-4d50-bb59-58f57dd3fc9e",
   "metadata": {},
   "source": [
    "import pandas as pd\n",
    "from sklearn.model_selection import train_test_split, StratifiedKFold, GridSearchCV\n",
    "from sklearn.preprocessing import StandardScaler\n",
    "from sklearn.ensemble import RandomForestClassifier\n",
    "from sklearn.metrics import classification_report, accuracy_score\n",
    "from sklearn.impute import SimpleImputer\n",
    "from sklearn.compose import ColumnTransformer\n",
    "from sklearn.pipeline import Pipeline\n",
    "from sklearn.preprocessing import OneHotEncoder\n",
    "\n",
    "# Assuming APK_learn is your DataFrame and 'departure_status' is your target column\n",
    "\n",
    "# Step 1: Separate the features and target variable\n",
    "X = APK_learn.drop(columns=['departure_status'])  # All columns except the target\n",
    "y = APK_learn['departure_status']  # Target variable\n",
    "\n",
    "# Step 2: Identify numerical and categorical columns\n",
    "numerical_columns = X.select_dtypes(include=['float64']).columns\n",
    "categorical_columns = X.select_dtypes(include=['int64']).columns\n",
    "\n",
    "# Step 3: Preprocessing for numerical columns\n",
    "# Impute missing values and standardize\n",
    "numerical_pipeline = Pipeline([\n",
    "    ('imputer', SimpleImputer(strategy='mean')),  # Impute missing values with the mean\n",
    "    ('scaler', StandardScaler())  # Standardize numerical columns\n",
    "])\n",
    "\n",
    "# Step 4: Preprocessing for categorical columns\n",
    "# Impute missing values and one-hot encode categorical columns\n",
    "categorical_pipeline = Pipeline([\n",
    "    ('imputer', SimpleImputer(strategy='most_frequent')),  # Impute missing values with the most frequent value\n",
    "    ('onehot', OneHotEncoder(handle_unknown='ignore'))  # One-hot encode categorical columns\n",
    "])\n",
    "\n",
    "# Step 5: Combine both preprocessing pipelines using ColumnTransformer\n",
    "preprocessor = ColumnTransformer(\n",
    "    transformers=[\n",
    "        ('num', numerical_pipeline, numerical_columns),\n",
    "        ('cat', categorical_pipeline, categorical_columns)\n",
    "    ]\n",
    ")\n",
    "\n",
    "# Step 6: Create the Random Forest Classifier pipeline (without setting hyperparameters yet)\n",
    "rf_pipeline = Pipeline([\n",
    "    ('preprocessor', preprocessor),\n",
    "    ('classifier', RandomForestClassifier(random_state=0))  # No hyperparameters set here yet\n",
    "])\n",
    "\n",
    "# Step 7: Split the data into training and testing sets\n",
    "X_train, X_test, y_train, y_test = train_test_split(X, y, test_size=0.3, random_state=42)\n",
    "\n",
    "# Step 8: Define the parameter grid for GridSearchCV\n",
    "rf_grid = {\n",
    "    'classifier__n_estimators': [50, 100, 150],\n",
    "    'classifier__max_depth': [5, 10, 15, None],\n",
    "    'classifier__min_samples_split': [2, 5, 10],\n",
    "    'classifier__min_samples_leaf': [1, 2, 4]\n",
    "}\n",
    "\n",
    "# Step 9: Perform GridSearchCV with StratifiedKFold cross-validation\n",
    "cv_folds = StratifiedKFold(n_splits=10, shuffle=True, random_state=42)\n",
    "rf_cv = GridSearchCV(rf_pipeline, rf_grid, cv=cv_folds, n_jobs=-1, scoring='accuracy')\n",
    "\n",
    "# Step 10: Fit the model using GridSearchCV\n",
    "rf_cv.fit(X_train, y_train)\n",
    "\n",
    "# Step 11: Output the best hyperparameters found by GridSearchCV\n",
    "print(f\"Best hyperparameters: {rf_cv.best_params_}\")\n",
    "\n",
    "# Step 12: Make predictions on the test set\n",
    "y_pred = rf_cv.predict(X_test)\n",
    "\n",
    "# Step 13: Evaluate the model\n",
    "print(f\"Accuracy: {accuracy_score(y_test, y_pred):.4f}\")\n",
    "print(\"Classification Report:\")\n",
    "print(classification_report(y_test, y_pred))\n"
   ]
  },
  {
   "cell_type": "markdown",
   "id": "d40d09a8-da42-4315-91fb-a99ad09292cd",
   "metadata": {},
   "source": [
    "# prediction"
   ]
  },
  {
   "cell_type": "code",
   "execution_count": 138,
   "id": "c16fc3fc-f971-44cd-8c88-7a5cc0b96f19",
   "metadata": {},
   "outputs": [],
   "source": [
    "import pandas as pd\n",
    "import numpy as np\n",
    "from sklearn.model_selection import train_test_split\n",
    "from sklearn.ensemble import RandomForestClassifier\n",
    "from sklearn.model_selection import StratifiedKFold\n",
    "from sklearn.model_selection import GridSearchCV\n",
    "from sklearn.metrics import accuracy_score\n",
    "import seaborn as sns\n",
    "import matplotlib.pyplot as plt"
   ]
  },
  {
   "cell_type": "code",
   "execution_count": 140,
   "id": "9861b5ba-0ac9-4a70-858c-8c4898fe7b59",
   "metadata": {},
   "outputs": [],
   "source": [
    "#APK_learn = APK_learn.drop([\"scheduled_arrival\"], axis=1)\n",
    "#APK_learn[\"scheduled_arrival\"] = APK_learn[\"scheduled_arrival\"].astype(object)\n",
    "# Convert datetime to numeric timestamp\n",
    "#APK_learn['scheduled_arrival_numeric'] = APK_learn['scheduled_arrival'].apply(lambda x: x.timestamp())"
   ]
  },
  {
   "cell_type": "code",
   "execution_count": 142,
   "id": "0221ca14-b9aa-47f1-8d47-06d2a9e30f3c",
   "metadata": {},
   "outputs": [],
   "source": [
    "metro_learn = metro_learn.copy()\n",
    "metro_learn.loc[:, 'real_arrival' + '_year'] = metro_learn['real_arrival'].dt.year\n",
    "metro_learn.loc[:, 'real_arrival' + '_month'] = metro_learn['real_arrival'].dt.month\n",
    "metro_learn.loc[:, 'real_arrival' + '_day'] = metro_learn['real_arrival'].dt.day\n",
    "metro_learn.loc[:, 'real_arrival' + '_hour'] = metro_learn['real_arrival'].dt.hour\n",
    "metro_learn.loc[:, 'real_arrival' + '_minute'] = metro_learn['real_arrival'].dt.minute\n",
    "metro_learn.loc[:, 'real_arrival' + '_second'] = metro_learn['real_arrival'].dt.second\n",
    "\n",
    "metro_test = metro_test.copy()\n",
    "metro_test.loc[:, 'real_arrival' + '_year'] = metro_test['real_arrival'].dt.year\n",
    "metro_test.loc[:, 'real_arrival' + '_month'] = metro_test['real_arrival'].dt.month\n",
    "metro_test.loc[:, 'real_arrival' + '_day'] = metro_test['real_arrival'].dt.day\n",
    "metro_test.loc[:, 'real_arrival' + '_hour'] = metro_test['real_arrival'].dt.hour\n",
    "metro_test.loc[:, 'real_arrival' + '_minute'] = metro_test['real_arrival'].dt.minute\n",
    "metro_test.loc[:, 'real_arrival' + '_second'] = metro_test['real_arrival'].dt.second"
   ]
  },
  {
   "cell_type": "code",
   "execution_count": 144,
   "id": "c3220205-069d-42fb-87fc-fa132dec0beb",
   "metadata": {},
   "outputs": [],
   "source": [
    "metro_learn.drop(['real_arrival'], axis=1, inplace=True)  # Drop the original datetime column if not needed\n",
    "metro_test.drop(['real_arrival'], axis=1, inplace=True)  # Drop the original datetime column if not needed"
   ]
  },
  {
   "cell_type": "code",
   "execution_count": 146,
   "id": "ad66fa58-bdb4-4f38-9e7e-3014a84b2864",
   "metadata": {},
   "outputs": [],
   "source": [
    "#APK_learn = APK_learn[['scheduled_arrival_numeric'] + [col for col in APK_learn.columns if col != 'scheduled_arrival_numeric']]"
   ]
  },
  {
   "cell_type": "code",
   "execution_count": 148,
   "id": "3ee16fc7-5e5b-46bf-a342-1cba7e03f6b9",
   "metadata": {},
   "outputs": [],
   "source": [
    "# Assuming APK_learn is your DataFrame\n",
    "# Extract the explanatory variables and the target variable\n",
    "metro_learn_X = metro_learn.drop('departure_status', axis=1)  # Features (exclude target)\n",
    "metro_learn_Y = metro_learn['departure_status']  # Target variable\n",
    "\n",
    "# Train-test split (80-20 split)\n",
    "X_train, X_test, Y_train, Y_test = train_test_split(metro_learn_X, \n",
    "                                                    metro_learn_Y, \n",
    "                                                    test_size=0.2, \n",
    "                                                    random_state=42)\n"
   ]
  },
  {
   "cell_type": "code",
   "execution_count": 150,
   "id": "a97214f7-f811-4f79-b799-97af1bb20635",
   "metadata": {},
   "outputs": [],
   "source": [
    "# Initialize the RandomForestClassifier\n",
    "rf = RandomForestClassifier(random_state=42)\n",
    "\n",
    "# Define the parameter grid for GridSearchCV\n",
    "rf_grid = {\n",
    "    'n_estimators': [50, 100, 150],\n",
    "    'max_depth': [5, 10, 15, None],\n",
    "    'min_samples_split': [2, 5, 10],\n",
    "    'min_samples_leaf': [1, 2, 4]\n",
    "}"
   ]
  },
  {
   "cell_type": "code",
   "execution_count": 152,
   "id": "689b1b90-03d4-4718-a3ec-09c0faee5cf7",
   "metadata": {},
   "outputs": [],
   "source": [
    "# Perform GridSearchCV with StratifiedKFold cross-validation\n",
    "cv_folds = StratifiedKFold(n_splits=10, shuffle=True, random_state=42)\n",
    "rf_cv = GridSearchCV(rf, rf_grid, cv=cv_folds, n_jobs=-1, scoring='accuracy')"
   ]
  },
  {
   "cell_type": "code",
   "execution_count": 154,
   "id": "50507afd-28e1-4714-a7c4-2d459e86ef4c",
   "metadata": {},
   "outputs": [
    {
     "name": "stdout",
     "output_type": "stream",
     "text": [
      "Best hyperparameters: {'max_depth': 15, 'min_samples_leaf': 1, 'min_samples_split': 2, 'n_estimators': 150}\n"
     ]
    }
   ],
   "source": [
    "rf_cv.fit(X_train, Y_train)\n",
    "\n",
    "# Output the best hyperparameters found by GridSearchCV\n",
    "print(f\"Best hyperparameters: {rf_cv.best_params_}\")"
   ]
  },
  {
   "cell_type": "code",
   "execution_count": 155,
   "id": "5213fee4-8ec2-4c97-a225-dac71e46bb2c",
   "metadata": {},
   "outputs": [],
   "source": [
    "metro_test_X = metro_test.drop('departure_status', axis=1)  # Features (exclude target)\n",
    "metro_test_Y = metro_test['departure_status']  # Target variable\n"
   ]
  },
  {
   "cell_type": "code",
   "execution_count": 156,
   "id": "073278b1-4894-489f-9cca-1eb4a9dfa5c3",
   "metadata": {},
   "outputs": [
    {
     "name": "stdout",
     "output_type": "stream",
     "text": [
      "Training Accuracy: 0.9990\n",
      "Test Accuracy: 0.9943\n"
     ]
    }
   ],
   "source": [
    "# Evaluate the model on the test set\n",
    "best_model = rf_cv.best_estimator_\n",
    "\n",
    "y_pred_train = best_model.predict(X_train)\n",
    "y_pred_test = best_model.predict(metro_test_X)\n",
    "\n",
    "# Print the accuracy on training and test sets\n",
    "print(f\"Training Accuracy: {accuracy_score(Y_train, y_pred_train):.4f}\")\n",
    "print(f\"Test Accuracy: {accuracy_score(metro_test_Y, y_pred_test):.4f}\")\n",
    "\n",
    "# Create DataFrames for plotting prediction vs true values\n",
    "train_pred_vs_true = pd.DataFrame({'True': Y_train, \n",
    "                                   'Predicted': y_pred_train})\n",
    "\n",
    "test_pred_vs_true = pd.DataFrame({'True': metro_test_Y, \n",
    "                                  'Predicted': y_pred_test})"
   ]
  },
  {
   "cell_type": "code",
   "execution_count": 157,
   "id": "0d974eff-009f-47b8-8ce3-82e05f519a88",
   "metadata": {},
   "outputs": [],
   "source": [
    "# Assuming 'PRIMARY_KEY' is a column in your test set\n",
    "# Create a DataFrame with PRIMARY_KEY and predicted target values\n",
    "predictions_df = pd.DataFrame({\n",
    "    'datetime': metro_test_X[['real_arrival_year', 'real_arrival_month', 'real_arrival_day', \n",
    "                           'real_arrival_hour', 'real_arrival_minute', 'real_arrival_second']].apply(\n",
    "                            lambda row: '-'.join(row.astype(str)), axis=1),  # Combine as a single key\n",
    "    'target': y_pred_test\n",
    "})\n",
    "\n",
    "\n",
    "# Save the predictions to a CSV file\n",
    "#predictions_df.to_csv('sigh.csv', index=False, sep=',', float_format='%.6f')  # Save with US decimal notation\n"
   ]
  },
  {
   "cell_type": "code",
   "execution_count": 158,
   "id": "a4ebf670-8cf8-4950-a576-87e0ab6f2bc4",
   "metadata": {},
   "outputs": [],
   "source": [
    "#metro_pred = pd.read_csv(\"sigh.csv\")"
   ]
  },
  {
   "cell_type": "code",
   "execution_count": 159,
   "id": "80f1d3e6-a114-49d0-b4ff-65efa0ce7de8",
   "metadata": {},
   "outputs": [
    {
     "name": "stdout",
     "output_type": "stream",
     "text": [
      "[[  42   26]\n",
      " [   6 5515]]\n"
     ]
    }
   ],
   "source": [
    "# Generate confusion matrix\n",
    "conf_matrix = confusion_matrix(metro_test_Y, y_pred_test)\n",
    "print(conf_matrix)\n"
   ]
  },
  {
   "cell_type": "raw",
   "id": "4ebffb8e-8545-489e-af3f-5f60a9a9fb8a",
   "metadata": {},
   "source": [
    "should we control the direction too? consider one stop and one direction?? group final direction to make binary?"
   ]
  },
  {
   "cell_type": "code",
   "execution_count": 160,
   "id": "5cd83056-07b2-496f-a21a-61ecb35e2993",
   "metadata": {},
   "outputs": [
    {
     "data": {
      "text/plain": [
       "departure_status\n",
       "onTime     5521\n",
       "delayed      68\n",
       "Name: count, dtype: Int64"
      ]
     },
     "execution_count": 160,
     "metadata": {},
     "output_type": "execute_result"
    }
   ],
   "source": [
    "metro_test['departure_status'].value_counts()"
   ]
  },
  {
   "cell_type": "code",
   "execution_count": null,
   "id": "f4bc5abf-f6cc-4a5d-8c00-9bd97c6f4ec4",
   "metadata": {},
   "outputs": [],
   "source": []
  }
 ],
 "metadata": {
  "kernelspec": {
   "display_name": "Python 3 (ipykernel)",
   "language": "python",
   "name": "python3"
  },
  "language_info": {
   "codemirror_mode": {
    "name": "ipython",
    "version": 3
   },
   "file_extension": ".py",
   "mimetype": "text/x-python",
   "name": "python",
   "nbconvert_exporter": "python",
   "pygments_lexer": "ipython3",
   "version": "3.11.7"
  }
 },
 "nbformat": 4,
 "nbformat_minor": 5
}
