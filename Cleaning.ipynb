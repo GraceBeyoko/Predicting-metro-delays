{
 "cells": [
  {
   "cell_type": "code",
   "execution_count": 27,
   "id": "3a7b75c8-77e6-4f8a-b6fa-43e26160a076",
   "metadata": {},
   "outputs": [],
   "source": [
    "import requests\n",
    "import pandas as pd\n",
    "from datetime import datetime\n",
    "import os"
   ]
  },
  {
   "cell_type": "code",
   "execution_count": 40,
   "id": "f252aae8-65d5-4975-84a6-820929be139b",
   "metadata": {},
   "outputs": [],
   "source": [
    "df_lines = pd.read_csv('referentiel-des-lignes.csv', sep=';')\n",
    "stops_data = pd.read_csv('arrets.csv', sep=';')\n",
    "delays_metro = pd.read_csv(\"metro_delays.csv\")\n",
    "delays_rer = pd.read_csv(\"rail_delays.csv\")\n",
    "metro_incident = pd.read_csv(\"metro_line_reports.csv\")\n",
    "rer_incident = pd.read_csv(\"rer_line_reports.csv\")"
   ]
  },
  {
   "cell_type": "code",
   "execution_count": 29,
   "id": "b5fc7e94",
   "metadata": {},
   "outputs": [],
   "source": [
    "line_refs = df_lines[(~df_lines['TransportSubmode'].isin(['suburbanRailway', 'regionalRail', 'railShuttle']))]\n",
    "line_refs = line_refs[['ID_Line', 'TransportMode', 'Name_Line']]\n",
    "line_refs = line_refs.sort_values(by='ID_Line')"
   ]
  },
  {
   "cell_type": "code",
   "execution_count": 30,
   "id": "7f62ffa3-9b4f-4d7f-b7f7-606b905e4dfc",
   "metadata": {},
   "outputs": [],
   "source": [
    "stops_data = stops_data[stops_data['ArRType'].isin(['metro', 'rail'])]\n",
    "stops_data = stops_data.sort_values(by=['ArRType', 'ArRId'])\n",
    "stops_data = stops_data[['ArRId', 'ArRName', 'ArRType', 'ArRTown']]"
   ]
  },
  {
   "cell_type": "code",
   "execution_count": 31,
   "id": "c3333436",
   "metadata": {},
   "outputs": [],
   "source": [
    "metro_incident['ref'] = metro_incident['ref'].str.replace('stop_point:IDFM:', '', regex=False)\n",
    "metro_incident['ref'] = metro_incident['ref'].str.replace('line:IDFM:', '', regex=False)\n",
    "metro_incident['ref'] = metro_incident['ref'].str.replace('stop_area:IDFM:', '', regex=False)"
   ]
  },
  {
   "cell_type": "code",
   "execution_count": 41,
   "id": "834f8377",
   "metadata": {},
   "outputs": [],
   "source": [
    "rer_incident['ref'] = rer_incident['ref'].str.replace('stop_point:IDFM:', '', regex=False)\n",
    "rer_incident['ref'] = rer_incident['ref'].str.replace('line:IDFM:', '', regex=False)\n",
    "rer_incident['ref'] = rer_incident['ref'].str.replace('stop_area:IDFM:', '', regex=False)"
   ]
  },
  {
   "cell_type": "code",
   "execution_count": 32,
   "id": "e1d30d5c-4b20-4ae6-b52b-4ed202aa4cf6",
   "metadata": {},
   "outputs": [],
   "source": [
    "stops_filter = [22086, 463013, 22136, 462993, 21964, 462969, 22125, 463113, 41295, 473921, 473993, 41354, 474060, 474061]\n",
    "lines_filter = [\"C01371\", \"C01372\", \"C01374\" ,\" C01382\", \"C01742\", \"C01743\", \"C01727\", \"C0172\"]"
   ]
  },
  {
   "cell_type": "code",
   "execution_count": 33,
   "id": "69302686",
   "metadata": {},
   "outputs": [],
   "source": [
    "filtered_stops = stops_data[stops_data['ArRId'].isin(stops_filter)]"
   ]
  },
  {
   "cell_type": "code",
   "execution_count": 34,
   "id": "4ba9abd3",
   "metadata": {},
   "outputs": [],
   "source": [
    "filtered_line = metro_incident[\n",
    "    metro_incident['ref'].isin(map(str, stops_filter + lines_filter))\n",
    "]"
   ]
  },
  {
   "cell_type": "code",
   "execution_count": 42,
   "id": "99cb29e1",
   "metadata": {},
   "outputs": [],
   "source": [
    "filtered_line_rer = rer_incident[\n",
    "    rer_incident['ref'].isin(map(str, stops_filter + lines_filter))\n",
    "]\n"
   ]
  },
  {
   "cell_type": "code",
   "execution_count": 35,
   "id": "afadb29f-88b3-4e5e-a454-3d0d6cc7fd77",
   "metadata": {},
   "outputs": [],
   "source": [
    "merged_metro = pd.merge(delays_metro, filtered_stops, left_on='stop_reference', right_on='ArRId')\n",
    "merged_metro.drop(['ArRId', 'ArRName', 'ArRType', 'transport_mode'], axis=1, inplace=True) #inplace allows to actually modify the original datset without having to reassing with \"=\""
   ]
  },
  {
   "cell_type": "code",
   "execution_count": 36,
   "id": "c2331630",
   "metadata": {},
   "outputs": [],
   "source": [
    "merged_rer = pd.merge(delays_rer, filtered_stops, left_on='stop_reference', right_on='ArRId')\n",
    "merged_rer.drop(['ArRId', 'ArRName', 'ArRType', 'transport_mode'], axis=1, inplace=True)"
   ]
  },
  {
   "cell_type": "code",
   "execution_count": null,
   "id": "55c610f5",
   "metadata": {},
   "outputs": [],
   "source": []
  }
 ],
 "metadata": {
  "kernelspec": {
   "display_name": "base",
   "language": "python",
   "name": "python3"
  },
  "language_info": {
   "codemirror_mode": {
    "name": "ipython",
    "version": 3
   },
   "file_extension": ".py",
   "mimetype": "text/x-python",
   "name": "python",
   "nbconvert_exporter": "python",
   "pygments_lexer": "ipython3",
   "version": "3.12.4"
  }
 },
 "nbformat": 4,
 "nbformat_minor": 5
}
